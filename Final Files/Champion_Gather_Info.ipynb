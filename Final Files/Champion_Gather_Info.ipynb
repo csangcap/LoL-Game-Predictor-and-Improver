{
 "cells": [
  {
   "cell_type": "code",
   "execution_count": 1,
   "metadata": {},
   "outputs": [],
   "source": [
    "import json\n",
    "import csv\n",
    "json_data = open('Champion.json')\n",
    "data = json.load(json_data)"
   ]
  },
  {
   "cell_type": "code",
   "execution_count": 2,
   "metadata": {},
   "outputs": [],
   "source": [
    "champs_libs = data['data'].keys()"
   ]
  },
  {
   "cell_type": "code",
   "execution_count": 3,
   "metadata": {},
   "outputs": [],
   "source": [
    "# things needed for strategies:\n",
    "# Attack Damage (AD) = 70: TF, P, HE\n",
    "# Attack dam. per lev (ADL) = 5: TF\n",
    "# Attack Range (AR) = 650: P\n",
    "# Attack Spd per lvl (ASL) = 6: P\n",
    "# Health Point (HP) = 800: TF\n",
    "# Movement Speed (MS) = 355: HE\n",
    "# Difficulty was added just for me\n",
    "\n",
    "record=[[\"ID_Num\", \"Name\", \"Attack Damage\", \"Attack Damage per Level\", \"Attack Range\", \"Attack Speed per Level\", \"Health Points\", \"Movement Speed\", \"Difficulty\"]]\n",
    "\n",
    "for num in champs_libs:\n",
    "    new=[]\n",
    "    new.append(data['data'][num]['key']) #get the number value of champion\n",
    "    new.append(data['data'][num]['id'])\n",
    "    new.append(data['data'][num]['stats']['attackdamage'])\n",
    "    new.append(data['data'][num]['stats']['attackdamageperlevel'])\n",
    "    new.append(data['data'][num]['stats']['attackrange'])\n",
    "    new.append(data['data'][num]['stats']['attackspeedperlevel'])\n",
    "    new.append(data['data'][num]['stats']['hp'])\n",
    "    new.append(data['data'][num]['stats']['movespeed'])\n",
    "    new.append(data['data'][num]['info']['difficulty'])\n",
    "    record.append(new)"
   ]
  },
  {
   "cell_type": "code",
   "execution_count": 4,
   "metadata": {},
   "outputs": [],
   "source": [
    "with open('Champion_Info.csv', 'w', newline='') as file:\n",
    "    writer = csv.writer(file, quoting=csv.QUOTE_NONNUMERIC, delimiter=',')\n",
    "    writer.writerows(record)"
   ]
  },
  {
   "cell_type": "code",
   "execution_count": 5,
   "metadata": {},
   "outputs": [],
   "source": [
    "import pandas as pd\n",
    "df = pd.read_csv('Champion_Info.csv', sep=\",\")"
   ]
  },
  {
   "cell_type": "code",
   "execution_count": 6,
   "metadata": {},
   "outputs": [
    {
     "data": {
      "text/html": [
       "<div>\n",
       "<style scoped>\n",
       "    .dataframe tbody tr th:only-of-type {\n",
       "        vertical-align: middle;\n",
       "    }\n",
       "\n",
       "    .dataframe tbody tr th {\n",
       "        vertical-align: top;\n",
       "    }\n",
       "\n",
       "    .dataframe thead th {\n",
       "        text-align: right;\n",
       "    }\n",
       "</style>\n",
       "<table border=\"1\" class=\"dataframe\">\n",
       "  <thead>\n",
       "    <tr style=\"text-align: right;\">\n",
       "      <th></th>\n",
       "      <th>ID_Num</th>\n",
       "      <th>Name</th>\n",
       "      <th>Attack Damage</th>\n",
       "      <th>Attack Damage per Level</th>\n",
       "      <th>Attack Range</th>\n",
       "      <th>Attack Speed per Level</th>\n",
       "      <th>Health Points</th>\n",
       "      <th>Movement Speed</th>\n",
       "      <th>Difficulty</th>\n",
       "    </tr>\n",
       "  </thead>\n",
       "  <tbody>\n",
       "    <tr>\n",
       "      <th>0</th>\n",
       "      <td>266</td>\n",
       "      <td>Aatrox</td>\n",
       "      <td>60.00</td>\n",
       "      <td>5.00</td>\n",
       "      <td>175</td>\n",
       "      <td>2.500</td>\n",
       "      <td>580.0</td>\n",
       "      <td>345</td>\n",
       "      <td>4</td>\n",
       "    </tr>\n",
       "    <tr>\n",
       "      <th>1</th>\n",
       "      <td>103</td>\n",
       "      <td>Ahri</td>\n",
       "      <td>53.04</td>\n",
       "      <td>3.00</td>\n",
       "      <td>550</td>\n",
       "      <td>2.000</td>\n",
       "      <td>526.0</td>\n",
       "      <td>330</td>\n",
       "      <td>5</td>\n",
       "    </tr>\n",
       "    <tr>\n",
       "      <th>2</th>\n",
       "      <td>84</td>\n",
       "      <td>Akali</td>\n",
       "      <td>62.40</td>\n",
       "      <td>3.30</td>\n",
       "      <td>125</td>\n",
       "      <td>3.200</td>\n",
       "      <td>575.0</td>\n",
       "      <td>345</td>\n",
       "      <td>7</td>\n",
       "    </tr>\n",
       "    <tr>\n",
       "      <th>3</th>\n",
       "      <td>12</td>\n",
       "      <td>Alistar</td>\n",
       "      <td>62.00</td>\n",
       "      <td>3.75</td>\n",
       "      <td>125</td>\n",
       "      <td>2.125</td>\n",
       "      <td>600.0</td>\n",
       "      <td>330</td>\n",
       "      <td>7</td>\n",
       "    </tr>\n",
       "    <tr>\n",
       "      <th>4</th>\n",
       "      <td>32</td>\n",
       "      <td>Amumu</td>\n",
       "      <td>53.38</td>\n",
       "      <td>3.80</td>\n",
       "      <td>125</td>\n",
       "      <td>2.180</td>\n",
       "      <td>615.0</td>\n",
       "      <td>335</td>\n",
       "      <td>3</td>\n",
       "    </tr>\n",
       "  </tbody>\n",
       "</table>\n",
       "</div>"
      ],
      "text/plain": [
       "   ID_Num     Name  Attack Damage  Attack Damage per Level  Attack Range  \\\n",
       "0     266   Aatrox          60.00                     5.00           175   \n",
       "1     103     Ahri          53.04                     3.00           550   \n",
       "2      84    Akali          62.40                     3.30           125   \n",
       "3      12  Alistar          62.00                     3.75           125   \n",
       "4      32    Amumu          53.38                     3.80           125   \n",
       "\n",
       "   Attack Speed per Level  Health Points  Movement Speed  Difficulty  \n",
       "0                   2.500          580.0             345           4  \n",
       "1                   2.000          526.0             330           5  \n",
       "2                   3.200          575.0             345           7  \n",
       "3                   2.125          600.0             330           7  \n",
       "4                   2.180          615.0             335           3  "
      ]
     },
     "execution_count": 6,
     "metadata": {},
     "output_type": "execute_result"
    }
   ],
   "source": [
    "df.head()"
   ]
  },
  {
   "cell_type": "code",
   "execution_count": null,
   "metadata": {},
   "outputs": [],
   "source": []
  },
  {
   "cell_type": "code",
   "execution_count": null,
   "metadata": {},
   "outputs": [],
   "source": []
  }
 ],
 "metadata": {
  "kernelspec": {
   "display_name": "Python 3",
   "language": "python",
   "name": "python3"
  },
  "language_info": {
   "codemirror_mode": {
    "name": "ipython",
    "version": 3
   },
   "file_extension": ".py",
   "mimetype": "text/x-python",
   "name": "python",
   "nbconvert_exporter": "python",
   "pygments_lexer": "ipython3",
   "version": "3.8.3"
  }
 },
 "nbformat": 4,
 "nbformat_minor": 4
}
