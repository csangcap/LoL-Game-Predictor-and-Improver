{
 "cells": [
  {
   "cell_type": "code",
   "execution_count": 44,
   "metadata": {},
   "outputs": [],
   "source": [
    "import warnings\n",
    "import numpy as np\n",
    "import pandas as pd\n",
    "%matplotlib inline\n",
    "import matplotlib.pyplot as plt\n",
    "import matplotlib\n",
    "from IPython.core.pylabtools import figsize\n",
    "\n",
    "from sklearn.datasets import fetch_openml\n",
    "from sklearn.linear_model import LogisticRegression, LinearRegression\n",
    "from sklearn.model_selection import train_test_split, GridSearchCV, cross_val_score, cross_val_predict\n",
    "from sklearn.metrics import confusion_matrix, precision_score, recall_score, f1_score, classification_report, roc_curve, roc_auc_score, precision_recall_curve\n",
    "\n",
    "df = pd.read_csv('gameInfo.csv', sep=\",\")"
   ]
  },
  {
   "cell_type": "markdown",
   "metadata": {},
   "source": [
    "# Analyzing the Data"
   ]
  },
  {
   "cell_type": "markdown",
   "metadata": {},
   "source": [
    "Looking over the data to make sure that it is okay"
   ]
  },
  {
   "cell_type": "code",
   "execution_count": 2,
   "metadata": {},
   "outputs": [
    {
     "data": {
      "text/html": [
       "<div>\n",
       "<style scoped>\n",
       "    .dataframe tbody tr th:only-of-type {\n",
       "        vertical-align: middle;\n",
       "    }\n",
       "\n",
       "    .dataframe tbody tr th {\n",
       "        vertical-align: top;\n",
       "    }\n",
       "\n",
       "    .dataframe thead th {\n",
       "        text-align: right;\n",
       "    }\n",
       "</style>\n",
       "<table border=\"1\" class=\"dataframe\">\n",
       "  <thead>\n",
       "    <tr style=\"text-align: right;\">\n",
       "      <th></th>\n",
       "      <th>teamA_player1</th>\n",
       "      <th>teamA_player2</th>\n",
       "      <th>teamA_player3</th>\n",
       "      <th>teamA_player4</th>\n",
       "      <th>teamA_player5</th>\n",
       "      <th>teamB_player1</th>\n",
       "      <th>teamB_player2</th>\n",
       "      <th>teamB_player3</th>\n",
       "      <th>teamB_player4</th>\n",
       "      <th>teamB_player5</th>\n",
       "      <th>win</th>\n",
       "    </tr>\n",
       "  </thead>\n",
       "  <tbody>\n",
       "    <tr>\n",
       "      <th>0</th>\n",
       "      <td>201</td>\n",
       "      <td>102</td>\n",
       "      <td>131</td>\n",
       "      <td>121</td>\n",
       "      <td>157</td>\n",
       "      <td>89</td>\n",
       "      <td>29</td>\n",
       "      <td>4</td>\n",
       "      <td>876</td>\n",
       "      <td>120</td>\n",
       "      <td>1</td>\n",
       "    </tr>\n",
       "    <tr>\n",
       "      <th>1</th>\n",
       "      <td>120</td>\n",
       "      <td>13</td>\n",
       "      <td>202</td>\n",
       "      <td>75</td>\n",
       "      <td>350</td>\n",
       "      <td>99</td>\n",
       "      <td>117</td>\n",
       "      <td>11</td>\n",
       "      <td>55</td>\n",
       "      <td>86</td>\n",
       "      <td>0</td>\n",
       "    </tr>\n",
       "    <tr>\n",
       "      <th>2</th>\n",
       "      <td>102</td>\n",
       "      <td>122</td>\n",
       "      <td>222</td>\n",
       "      <td>110</td>\n",
       "      <td>111</td>\n",
       "      <td>39</td>\n",
       "      <td>30</td>\n",
       "      <td>99</td>\n",
       "      <td>202</td>\n",
       "      <td>63</td>\n",
       "      <td>1</td>\n",
       "    </tr>\n",
       "    <tr>\n",
       "      <th>3</th>\n",
       "      <td>18</td>\n",
       "      <td>99</td>\n",
       "      <td>245</td>\n",
       "      <td>17</td>\n",
       "      <td>62</td>\n",
       "      <td>21</td>\n",
       "      <td>63</td>\n",
       "      <td>254</td>\n",
       "      <td>777</td>\n",
       "      <td>150</td>\n",
       "      <td>0</td>\n",
       "    </tr>\n",
       "    <tr>\n",
       "      <th>4</th>\n",
       "      <td>102</td>\n",
       "      <td>82</td>\n",
       "      <td>131</td>\n",
       "      <td>89</td>\n",
       "      <td>22</td>\n",
       "      <td>114</td>\n",
       "      <td>235</td>\n",
       "      <td>64</td>\n",
       "      <td>105</td>\n",
       "      <td>21</td>\n",
       "      <td>0</td>\n",
       "    </tr>\n",
       "  </tbody>\n",
       "</table>\n",
       "</div>"
      ],
      "text/plain": [
       "   teamA_player1  teamA_player2  teamA_player3  teamA_player4  teamA_player5  \\\n",
       "0            201            102            131            121            157   \n",
       "1            120             13            202             75            350   \n",
       "2            102            122            222            110            111   \n",
       "3             18             99            245             17             62   \n",
       "4            102             82            131             89             22   \n",
       "\n",
       "   teamB_player1  teamB_player2  teamB_player3  teamB_player4  teamB_player5  \\\n",
       "0             89             29              4            876            120   \n",
       "1             99            117             11             55             86   \n",
       "2             39             30             99            202             63   \n",
       "3             21             63            254            777            150   \n",
       "4            114            235             64            105             21   \n",
       "\n",
       "   win  \n",
       "0    1  \n",
       "1    0  \n",
       "2    1  \n",
       "3    0  \n",
       "4    0  "
      ]
     },
     "execution_count": 2,
     "metadata": {},
     "output_type": "execute_result"
    }
   ],
   "source": [
    "df.head()"
   ]
  },
  {
   "cell_type": "code",
   "execution_count": 3,
   "metadata": {},
   "outputs": [
    {
     "name": "stdout",
     "output_type": "stream",
     "text": [
      "Dimension of the data:  (1074, 11)\n",
      "No. of Rows: 1074\n",
      "No. of Columns: 11\n"
     ]
    }
   ],
   "source": [
    "print(\"Dimension of the data: \", df.shape)\n",
    "\n",
    "no_of_rows = df.shape[0]\n",
    "no_of_columns = df.shape[1]\n",
    "\n",
    "print(\"No. of Rows: %d\" % no_of_rows)\n",
    "print(\"No. of Columns: %d\" % no_of_columns)"
   ]
  },
  {
   "cell_type": "code",
   "execution_count": 4,
   "metadata": {},
   "outputs": [
    {
     "data": {
      "text/html": [
       "<div>\n",
       "<style scoped>\n",
       "    .dataframe tbody tr th:only-of-type {\n",
       "        vertical-align: middle;\n",
       "    }\n",
       "\n",
       "    .dataframe tbody tr th {\n",
       "        vertical-align: top;\n",
       "    }\n",
       "\n",
       "    .dataframe thead th {\n",
       "        text-align: right;\n",
       "    }\n",
       "</style>\n",
       "<table border=\"1\" class=\"dataframe\">\n",
       "  <thead>\n",
       "    <tr style=\"text-align: right;\">\n",
       "      <th></th>\n",
       "      <th>teamA_player1</th>\n",
       "      <th>teamA_player2</th>\n",
       "      <th>teamA_player3</th>\n",
       "      <th>teamA_player4</th>\n",
       "      <th>teamA_player5</th>\n",
       "      <th>teamB_player1</th>\n",
       "      <th>teamB_player2</th>\n",
       "      <th>teamB_player3</th>\n",
       "      <th>teamB_player4</th>\n",
       "      <th>teamB_player5</th>\n",
       "      <th>win</th>\n",
       "    </tr>\n",
       "  </thead>\n",
       "  <tbody>\n",
       "    <tr>\n",
       "      <th>count</th>\n",
       "      <td>1074.000000</td>\n",
       "      <td>1074.000000</td>\n",
       "      <td>1074.000000</td>\n",
       "      <td>1074.000000</td>\n",
       "      <td>1074.000000</td>\n",
       "      <td>1074.000000</td>\n",
       "      <td>1074.000000</td>\n",
       "      <td>1074.000000</td>\n",
       "      <td>1074.000000</td>\n",
       "      <td>1074.000000</td>\n",
       "      <td>1074.000000</td>\n",
       "    </tr>\n",
       "    <tr>\n",
       "      <th>mean</th>\n",
       "      <td>146.498138</td>\n",
       "      <td>163.103352</td>\n",
       "      <td>159.216015</td>\n",
       "      <td>166.610801</td>\n",
       "      <td>164.632216</td>\n",
       "      <td>148.362197</td>\n",
       "      <td>158.076350</td>\n",
       "      <td>159.130354</td>\n",
       "      <td>168.678771</td>\n",
       "      <td>152.831471</td>\n",
       "      <td>0.511173</td>\n",
       "    </tr>\n",
       "    <tr>\n",
       "      <th>std</th>\n",
       "      <td>170.340771</td>\n",
       "      <td>180.729421</td>\n",
       "      <td>168.398486</td>\n",
       "      <td>193.529900</td>\n",
       "      <td>177.393723</td>\n",
       "      <td>163.582892</td>\n",
       "      <td>172.153202</td>\n",
       "      <td>180.001516</td>\n",
       "      <td>189.608588</td>\n",
       "      <td>176.364980</td>\n",
       "      <td>0.500108</td>\n",
       "    </tr>\n",
       "    <tr>\n",
       "      <th>min</th>\n",
       "      <td>1.000000</td>\n",
       "      <td>1.000000</td>\n",
       "      <td>1.000000</td>\n",
       "      <td>1.000000</td>\n",
       "      <td>1.000000</td>\n",
       "      <td>1.000000</td>\n",
       "      <td>1.000000</td>\n",
       "      <td>1.000000</td>\n",
       "      <td>1.000000</td>\n",
       "      <td>1.000000</td>\n",
       "      <td>0.000000</td>\n",
       "    </tr>\n",
       "    <tr>\n",
       "      <th>25%</th>\n",
       "      <td>45.000000</td>\n",
       "      <td>50.000000</td>\n",
       "      <td>54.000000</td>\n",
       "      <td>50.000000</td>\n",
       "      <td>53.000000</td>\n",
       "      <td>43.000000</td>\n",
       "      <td>53.000000</td>\n",
       "      <td>51.000000</td>\n",
       "      <td>54.000000</td>\n",
       "      <td>45.000000</td>\n",
       "      <td>0.000000</td>\n",
       "    </tr>\n",
       "    <tr>\n",
       "      <th>50%</th>\n",
       "      <td>86.000000</td>\n",
       "      <td>103.000000</td>\n",
       "      <td>101.000000</td>\n",
       "      <td>99.000000</td>\n",
       "      <td>99.000000</td>\n",
       "      <td>89.000000</td>\n",
       "      <td>99.000000</td>\n",
       "      <td>98.000000</td>\n",
       "      <td>103.000000</td>\n",
       "      <td>92.000000</td>\n",
       "      <td>1.000000</td>\n",
       "    </tr>\n",
       "    <tr>\n",
       "      <th>75%</th>\n",
       "      <td>163.000000</td>\n",
       "      <td>203.000000</td>\n",
       "      <td>203.000000</td>\n",
       "      <td>203.000000</td>\n",
       "      <td>222.000000</td>\n",
       "      <td>164.000000</td>\n",
       "      <td>202.000000</td>\n",
       "      <td>203.000000</td>\n",
       "      <td>203.000000</td>\n",
       "      <td>164.000000</td>\n",
       "      <td>1.000000</td>\n",
       "    </tr>\n",
       "    <tr>\n",
       "      <th>max</th>\n",
       "      <td>876.000000</td>\n",
       "      <td>876.000000</td>\n",
       "      <td>876.000000</td>\n",
       "      <td>876.000000</td>\n",
       "      <td>876.000000</td>\n",
       "      <td>876.000000</td>\n",
       "      <td>876.000000</td>\n",
       "      <td>876.000000</td>\n",
       "      <td>876.000000</td>\n",
       "      <td>876.000000</td>\n",
       "      <td>1.000000</td>\n",
       "    </tr>\n",
       "  </tbody>\n",
       "</table>\n",
       "</div>"
      ],
      "text/plain": [
       "       teamA_player1  teamA_player2  teamA_player3  teamA_player4  \\\n",
       "count    1074.000000    1074.000000    1074.000000    1074.000000   \n",
       "mean      146.498138     163.103352     159.216015     166.610801   \n",
       "std       170.340771     180.729421     168.398486     193.529900   \n",
       "min         1.000000       1.000000       1.000000       1.000000   \n",
       "25%        45.000000      50.000000      54.000000      50.000000   \n",
       "50%        86.000000     103.000000     101.000000      99.000000   \n",
       "75%       163.000000     203.000000     203.000000     203.000000   \n",
       "max       876.000000     876.000000     876.000000     876.000000   \n",
       "\n",
       "       teamA_player5  teamB_player1  teamB_player2  teamB_player3  \\\n",
       "count    1074.000000    1074.000000    1074.000000    1074.000000   \n",
       "mean      164.632216     148.362197     158.076350     159.130354   \n",
       "std       177.393723     163.582892     172.153202     180.001516   \n",
       "min         1.000000       1.000000       1.000000       1.000000   \n",
       "25%        53.000000      43.000000      53.000000      51.000000   \n",
       "50%        99.000000      89.000000      99.000000      98.000000   \n",
       "75%       222.000000     164.000000     202.000000     203.000000   \n",
       "max       876.000000     876.000000     876.000000     876.000000   \n",
       "\n",
       "       teamB_player4  teamB_player5          win  \n",
       "count    1074.000000    1074.000000  1074.000000  \n",
       "mean      168.678771     152.831471     0.511173  \n",
       "std       189.608588     176.364980     0.500108  \n",
       "min         1.000000       1.000000     0.000000  \n",
       "25%        54.000000      45.000000     0.000000  \n",
       "50%       103.000000      92.000000     1.000000  \n",
       "75%       203.000000     164.000000     1.000000  \n",
       "max       876.000000     876.000000     1.000000  "
      ]
     },
     "execution_count": 4,
     "metadata": {},
     "output_type": "execute_result"
    }
   ],
   "source": [
    "df.describe()"
   ]
  },
  {
   "cell_type": "code",
   "execution_count": 6,
   "metadata": {},
   "outputs": [
    {
     "name": "stdout",
     "output_type": "stream",
     "text": [
      "Dimension of the Data Matrix X:  (1074, 10)\n",
      "No. of Rows: 1074\n",
      "No. of Columns: 10\n",
      "Dimension of the 1D Vector y:  (1074,)\n",
      "No. of Rows: 1074\n",
      "No. of Columns: 1\n"
     ]
    }
   ],
   "source": [
    "X = df.drop(labels='win', axis=1)\n",
    "y = df['win']\n",
    "\n",
    "print(\"Dimension of the Data Matrix X: \", X.shape)\n",
    "print(\"No. of Rows: %d\" % X.shape[0])\n",
    "print(\"No. of Columns: %d\" % X.shape[1])\n",
    "\n",
    "print(\"Dimension of the 1D Vector y: \", y.shape)\n",
    "print(\"No. of Rows: %d\" % y.shape[0])\n",
    "print(\"No. of Columns: %d\" % 1)"
   ]
  },
  {
   "cell_type": "markdown",
   "metadata": {},
   "source": [
    "# Training the Model"
   ]
  },
  {
   "cell_type": "markdown",
   "metadata": {},
   "source": [
    "Splitting the data into a training and test set"
   ]
  },
  {
   "cell_type": "code",
   "execution_count": 53,
   "metadata": {},
   "outputs": [],
   "source": [
    "X_train, X_test, y_train, y_test = train_test_split(X, y, test_size=0.2, random_state=0)"
   ]
  },
  {
   "cell_type": "code",
   "execution_count": 54,
   "metadata": {},
   "outputs": [
    {
     "data": {
      "text/plain": [
       "LogisticRegression()"
      ]
     },
     "execution_count": 54,
     "metadata": {},
     "output_type": "execute_result"
    }
   ],
   "source": [
    "# Create linear regression object\n",
    "logisticRegresssion_clf = LogisticRegression()\n",
    "\n",
    "# Train the model using the traing data and label\n",
    "logisticRegresssion_clf.fit(X_train, y_train)"
   ]
  },
  {
   "cell_type": "markdown",
   "metadata": {},
   "source": [
    "## Calculating the ROC Curve"
   ]
  },
  {
   "cell_type": "code",
   "execution_count": 55,
   "metadata": {},
   "outputs": [],
   "source": [
    "y_scores = cross_val_predict(logisticRegresssion_clf, X_train, y_train, method=\"predict_proba\", cv=5)[:, 1]\n",
    "\n",
    "fpr, tpr, thresholds = roc_curve(y_train, y_scores)"
   ]
  },
  {
   "cell_type": "code",
   "execution_count": 56,
   "metadata": {},
   "outputs": [
    {
     "data": {
      "image/png": "[encoded data removed]",
      "text/plain": [
       "<Figure size 720x432 with 1 Axes>"
      ]
     },
     "metadata": {},
     "output_type": "display_data"
    }
   ],
   "source": [
    "plt.style.use('ggplot')\n",
    "\n",
    "fig = plt.figure(figsize=(10, 6))\n",
    "def plot_roc_curve(fpr, tpr, label=None): \n",
    "    plt.plot(fpr, tpr, color='darkorange', linewidth=2, label=label) \n",
    "    plt.plot([0, 1], [0, 1], color='navy', lw=2, linestyle='--')\n",
    "    plt.axis([0, 1, 0, 1])\n",
    "    plt.title('ROC Curve (Train Data)')\n",
    "    plt.xlabel('False Positive Rate')\n",
    "    plt.ylabel('True Positive Rate')\n",
    "\n",
    "plot_roc_curve(fpr, tpr)\n",
    "plt.show()"
   ]
  },
  {
   "cell_type": "code",
   "execution_count": 63,
   "metadata": {},
   "outputs": [],
   "source": [
    "y_scores = cross_val_predict(logisticRegresssion_clf, X_train, y_train, method=\"predict_proba\", cv=5)[:, 1]\n",
    "\n",
    "fpr, tpr, thresholds = roc_curve(y_train, y_scores)"
   ]
  },
  {
   "cell_type": "code",
   "execution_count": 65,
   "metadata": {},
   "outputs": [
    {
     "name": "stdout",
     "output_type": "stream",
     "text": [
      "Optimal Threshold:  0.7597609156519374\n"
     ]
    }
   ],
   "source": [
    "precisions, recalls, thresholds = precision_recall_curve(y_train, y_scores)\n",
    "\n",
    "threshold_optimal = -1\n",
    "for i in range(len(precisions)):\n",
    "    if(precisions[i] == recalls[i]):\n",
    "        threshold_optimal = thresholds[i]\n",
    "\n",
    "print(\"Optimal Threshold: \", threshold_optimal)"
   ]
  },
  {
   "cell_type": "code",
   "execution_count": 13,
   "metadata": {},
   "outputs": [
    {
     "data": {
      "text/plain": [
       "0.5126595329050182"
      ]
     },
     "execution_count": 13,
     "metadata": {},
     "output_type": "execute_result"
    }
   ],
   "source": [
    "roc_auc_score(y_train,y_scores)"
   ]
  },
  {
   "cell_type": "markdown",
   "metadata": {},
   "source": [
    "## Plotting Precision-Recall Curve"
   ]
  },
  {
   "cell_type": "code",
   "execution_count": 67,
   "metadata": {},
   "outputs": [
    {
     "data": {
      "image/png": "[encoded data removed]",
      "text/plain": [
       "<Figure size 720x432 with 1 Axes>"
      ]
     },
     "metadata": {},
     "output_type": "display_data"
    }
   ],
   "source": [
    "fig = plt.figure(figsize=(10, 6))\n",
    "def plot_precision_recall_vs_threshold(precisions, recalls, thresholds): \n",
    "    plt.plot(thresholds, precisions[:-1], \"b--\",  linewidth=2, label=\"Precision\") \n",
    "    plt.plot(thresholds, recalls[:-1], \"g-\",  linewidth=2, label=\"Recall\") \n",
    "    plt.xlabel(\"Threshold\")\n",
    "    plt.legend(loc=\"lower right\")\n",
    "    plt.title('Precision-Recall Curve')\n",
    "    plt.xlim([0.3, 0.7])\n",
    "    plt.ylim([0, 1.1])\n",
    "\n",
    "plot_precision_recall_vs_threshold(precisions, recalls, thresholds)\n",
    "plt.show()"
   ]
  },
  {
   "cell_type": "markdown",
   "metadata": {},
   "source": [
    "# Results"
   ]
  },
  {
   "cell_type": "code",
   "execution_count": 57,
   "metadata": {},
   "outputs": [
    {
     "name": "stdout",
     "output_type": "stream",
     "text": [
      "\n",
      "Accuracy:  0.5348837209302325\n",
      "\n",
      "Test Confusion Matrix:\n",
      "[[43 66]\n",
      " [34 72]]\n",
      "\n",
      "Test Precision = 0.534884\n",
      "\n",
      "Test Recall = 0.534884\n",
      "\n",
      "Test F1 Score = 0.534884\n",
      "\n",
      "Classification Report:\n",
      "              precision    recall  f1-score   support\n",
      "\n",
      "           0       0.56      0.39      0.46       109\n",
      "           1       0.52      0.68      0.59       106\n",
      "\n",
      "    accuracy                           0.53       215\n",
      "   macro avg       0.54      0.54      0.53       215\n",
      "weighted avg       0.54      0.53      0.53       215\n",
      "\n"
     ]
    }
   ],
   "source": [
    "# Make predictions using the test data\n",
    "y_predicted = logisticRegresssion_clf.predict(X_test)\n",
    "\n",
    "accuracy_score_test = np.mean(y_predicted == y_test)\n",
    "print(\"\\nAccuracy: \", accuracy_score_test)\n",
    "\n",
    "print(\"\\nTest Confusion Matrix:\")\n",
    "print(confusion_matrix(y_test, y_predicted))\n",
    "\n",
    "precision_test = precision_score(y_test, y_predicted, average='micro') \n",
    "print(\"\\nTest Precision = %f\" % precision_test)\n",
    "\n",
    "recall_test = recall_score(y_test, y_predicted, average='micro')\n",
    "print(\"\\nTest Recall = %f\" % recall_test)\n",
    "\n",
    "\n",
    "f1_test = f1_score(y_test, y_predicted, average='micro')\n",
    "print(\"\\nTest F1 Score = %f\" % f1_test)\n",
    "\n",
    "\n",
    "print(\"\\nClassification Report:\")\n",
    "print(classification_report(y_test, y_predicted))"
   ]
  },
  {
   "cell_type": "code",
   "execution_count": null,
   "metadata": {},
   "outputs": [],
   "source": []
  }
 ],
 "metadata": {
  "kernelspec": {
   "display_name": "Python 3",
   "language": "python",
   "name": "python3"
  },
  "language_info": {
   "codemirror_mode": {
    "name": "ipython",
    "version": 3
   },
   "file_extension": ".py",
   "mimetype": "text/x-python",
   "name": "python",
   "nbconvert_exporter": "python",
   "pygments_lexer": "ipython3",
   "version": "3.8.5"
  }
 },
 "nbformat": 4,
 "nbformat_minor": 4
}
