{
 "cells": [
  {
   "cell_type": "code",
   "execution_count": 158,
   "metadata": {},
   "outputs": [],
   "source": [
    "from surprise import Reader, Dataset, SVD, accuracy\n",
    "from surprise.model_selection import cross_validate, train_test_split, KFold\n",
    "import pandas as pd\n",
    "from collections import defaultdict\n",
    "import math\n",
    "import requests\n",
    "import matplotlib.pyplot as plt"
   ]
  },
  {
   "cell_type": "markdown",
   "metadata": {},
   "source": [
    "# Initial Setup\n"
   ]
  },
  {
   "cell_type": "markdown",
   "metadata": {},
   "source": [
    "# Loading in the training data, and setting up the algorithm"
   ]
  },
  {
   "cell_type": "code",
   "execution_count": 162,
   "metadata": {},
   "outputs": [
    {
     "data": {
      "text/plain": [
       "<surprise.prediction_algorithms.matrix_factorization.SVD at 0x243e27f0490>"
      ]
     },
     "execution_count": 162,
     "metadata": {},
     "output_type": "execute_result"
    }
   ],
   "source": [
    "df = pd.read_csv('leaderboard_masteries.csv', header=None, names=['summonerID', 'championID', 'rating'])\n",
    "\n",
    "dfreader = Reader(rating_scale=(1, 100))\n",
    "data = Dataset.load_from_df(df[['summonerID', 'championID', 'rating']], dfreader)\n",
    "trainset = data.build_full_trainset()\n",
    "\n",
    "algo = SVD()\n",
    "algo.random_state = 1\n",
    "algo.fit(trainset)"
   ]
  },
  {
   "cell_type": "markdown",
   "metadata": {},
   "source": [
    "## Calculating Root Mean Squared Error and Mean Absolute Error"
   ]
  },
  {
   "cell_type": "code",
   "execution_count": 24,
   "metadata": {
    "scrolled": true
   },
   "outputs": [
    {
     "name": "stdout",
     "output_type": "stream",
     "text": [
      "Evaluating RMSE, MAE of algorithm SVD on 5 split(s).\n",
      "\n",
      "                  Fold 1  Fold 2  Fold 3  Fold 4  Fold 5  Mean    Std     \n",
      "RMSE (testset)    19.0115 18.9991 19.2945 19.1756 19.2771 19.1516 0.1262  \n",
      "MAE (testset)     12.0961 12.0743 12.1612 12.0621 12.2624 12.1312 0.0740  \n",
      "Fit time          2.50    2.48    2.49    2.48    2.53    2.50    0.02    \n",
      "Test time         0.08    0.08    0.14    0.08    0.09    0.09    0.02    \n"
     ]
    },
    {
     "data": {
      "text/plain": [
       "{'test_rmse': array([19.01149184, 18.99912366, 19.29452695, 19.17563395, 19.27713484]),\n",
       " 'test_mae': array([12.096078  , 12.07430628, 12.16115465, 12.06208638, 12.26237914]),\n",
       " 'fit_time': (2.4991445541381836,\n",
       "  2.484445095062256,\n",
       "  2.4903063774108887,\n",
       "  2.476203680038452,\n",
       "  2.526463270187378),\n",
       " 'test_time': (0.08105683326721191,\n",
       "  0.08105683326721191,\n",
       "  0.13672256469726562,\n",
       "  0.07960915565490723,\n",
       "  0.08789372444152832)}"
      ]
     },
     "execution_count": 24,
     "metadata": {},
     "output_type": "execute_result"
    }
   ],
   "source": [
    "cross_validate(algo, data, measures=['RMSE', 'MAE'], cv=5, verbose=True)"
   ]
  },
  {
   "cell_type": "markdown",
   "metadata": {},
   "source": [
    "## Created Dictionary of All Avaliable Champions "
   ]
  },
  {
   "cell_type": "code",
   "execution_count": 19,
   "metadata": {},
   "outputs": [],
   "source": [
    "champ_map = {266: 'Aatrox', 103: 'Ahri', 84: 'Akali',12: 'Alistar',32: 'Amumu',34: 'Anivia',1: 'Annie',523: 'Aphelios',\n",
    "            22: 'Ashe', 136: 'AurelionSol', 268: 'Azir',432: 'Bard',53: 'Blitzcrank',63: 'Brand',201: 'Braum',\n",
    "            51: 'Caitlyn',164: 'Camille', 69: 'Cassiopeia',31: 'Chogath',42: 'Corki',122: 'Darius',131: 'Diana',\n",
    "            119: 'Draven',36: 'DrMundo',245: 'Ekko', 60: 'Elise',28: 'Evelynn',81: 'Ezreal',9: 'Fiddlesticks',\n",
    "            114: 'Fiora',105: 'Fizz',3: 'Galio',41: 'Gangplank', 86: 'Garen',150: 'Gnar',79: 'Gragas',104: 'Graves',\n",
    "            120: 'Hecarim',74: 'Heimerdinger',420: 'Illaoi',39: 'Irelia', 427: 'Ivern',40: 'Janna',59: 'JarvanIV',\n",
    "            24: 'Jax',126: 'Jayce',202: 'Jhin',222: 'Jinx',145: 'Kaisa',429: 'Kalista', 43: 'Karma',30: 'Karthus',\n",
    "            38: 'Kassadin',55: 'Katarina',10: 'Kayle', 141: 'Kayn',85: 'Kennen',121: 'Khazix', 203: 'Kindred', 240: 'Kled',\n",
    "            96: 'KogMaw',7: 'Leblanc',64: 'LeeSin',89: 'Leona',876: 'Lillia',127: 'Lissandra', 236: 'Lucian',117: 'Lulu',\n",
    "            99: 'Lux',54: 'Malphite',90: 'Malzahar',57: 'Maokai',11: 'MasterYi',21: 'MissFortune', 62: 'MonkeyKing',\n",
    "            82: 'Mordekaiser',25: 'Morgana',267: 'Nami',75: 'Nasus',111: 'Nautilus',518: 'Neeko',76: 'Nidalee',\n",
    "            56: 'Nocturne',20: 'Nunu',2: 'Olaf',61: 'Orianna',516: 'Ornn',80: 'Pantheon',78: 'Poppy',555: 'Pyke',\n",
    "            246: 'Qiyana', 133: 'Quinn',497: 'Rakan',33: 'Rammus',421: 'RekSai',526: 'Rell',58: 'Renekton',107: 'Rengar',\n",
    "            92: 'Riven', 68: 'Rumble',13: 'Ryze',360: 'Samira',113: 'Sejuani',235: 'Senna',147: 'Seraphine',875: 'Sett',\n",
    "            35: 'Shaco', 98: 'Shen',102: 'Shyvana',27: 'Singed',14: 'Sion',15: 'Sivir',72: 'Skarner',37: 'Sona',\n",
    "            16: 'Soraka',50: 'Swain', 517: 'Sylas',134: 'Syndra',223: 'TahmKench',163: 'Taliyah',91: 'Talon',44: 'Taric', \n",
    "            17: 'Teemo',412: 'Thresh', 18: 'Tristana',48: 'Trundle',23: 'Tryndamere',4: 'TwistedFate',29: 'Twitch',\n",
    "            77: 'Udyr',6: 'Urgot',110: 'Varus', 67: 'Vayne',45: 'Veigar',161: 'Velkoz',254: 'Vi',112: 'Viktor',\n",
    "            8: 'Vladimir',106: 'Volibear',19: 'Warwick', 498: 'Xayah',101: 'Xerath',5: 'XinZhao',157: 'Yasuo',\n",
    "            777: 'Yone',83: 'Yorick',350: 'Yuumi',154: 'Zac',238: 'Zed', 115: 'Ziggs',26: 'Zilean',142: 'Zoe',143: 'Zyra',}"
   ]
  },
  {
   "cell_type": "markdown",
   "metadata": {},
   "source": [
    "Checking how biased the training data set is"
   ]
  },
  {
   "cell_type": "code",
   "execution_count": 36,
   "metadata": {},
   "outputs": [
    {
     "name": "stdout",
     "output_type": "stream",
     "text": [
      "Aatrox 497\n",
      "Ahri 593\n",
      "Akali 570\n",
      "Alistar 544\n",
      "Amumu 604\n",
      "Anivia 487\n",
      "Annie 655\n",
      "Aphelios 288\n",
      "Ashe 688\n",
      "AurelionSol 449\n",
      "Azir 492\n",
      "Bard 505\n",
      "Blitzcrank 635\n",
      "Brand 599\n",
      "Braum 524\n",
      "Caitlyn 650\n",
      "Camille 419\n",
      "Cassiopeia 492\n",
      "Chogath 599\n",
      "Corki 525\n",
      "Darius 605\n",
      "Diana 501\n",
      "Draven 524\n",
      "DrMundo 575\n",
      "Ekko 584\n",
      "Elise 479\n",
      "Evelynn 524\n",
      "Ezreal 655\n",
      "Fiddlesticks 572\n",
      "Fiora 518\n",
      "Fizz 587\n",
      "Galio 517\n",
      "Gangplank 549\n",
      "Garen 634\n",
      "Gnar 509\n",
      "Gragas 514\n",
      "Graves 593\n",
      "Hecarim 540\n",
      "Heimerdinger 494\n",
      "Illaoi 466\n",
      "Irelia 539\n",
      "Ivern 357\n",
      "Janna 558\n",
      "JarvanIV 549\n",
      "Jax 606\n",
      "Jayce 493\n",
      "Jhin 592\n",
      "Jinx 590\n",
      "Kaisa 463\n",
      "Kalista 491\n",
      "Karma 528\n",
      "Karthus 569\n",
      "Kassadin 528\n",
      "Katarina 549\n",
      "Kayle 623\n",
      "Kayn 465\n",
      "Kennen 500\n",
      "Khazix 531\n",
      "Kindred 495\n",
      "Kled 391\n",
      "KogMaw 521\n",
      "Leblanc 525\n",
      "LeeSin 575\n",
      "Leona 599\n",
      "Lillia 238\n",
      "Lissandra 489\n",
      "Lucian 598\n",
      "Lulu 537\n",
      "Lux 649\n",
      "Malphite 622\n",
      "Malzahar 502\n",
      "Maokai 559\n",
      "MasterYi 649\n",
      "MissFortune 626\n",
      "MonkeyKing 537\n",
      "Mordekaiser 550\n",
      "Morgana 656\n",
      "Nami 464\n",
      "Nasus 600\n",
      "Nautilus 551\n",
      "Neeko 350\n",
      "Nidalee 540\n",
      "Nocturne 499\n",
      "Nunu 572\n",
      "Olaf 520\n",
      "Orianna 527\n",
      "Ornn 406\n",
      "Pantheon 556\n",
      "Poppy 552\n",
      "Pyke 466\n",
      "Qiyana 275\n",
      "Quinn 470\n",
      "Rakan 402\n",
      "Rammus 521\n",
      "RekSai 434\n",
      "Rell 35\n",
      "Renekton 516\n",
      "Rengar 514\n",
      "Riven 551\n",
      "Rumble 473\n",
      "Ryze 582\n",
      "Samira 175\n",
      "Sejuani 459\n",
      "Senna 358\n",
      "Seraphine 131\n",
      "Sett 344\n",
      "Shaco 487\n",
      "Shen 546\n",
      "Shyvana 536\n",
      "Singed 522\n",
      "Sion 494\n",
      "Sivir 628\n",
      "Skarner 399\n",
      "Sona 554\n",
      "Soraka 612\n",
      "Swain 517\n",
      "Sylas 406\n",
      "Syndra 502\n",
      "TahmKench 497\n",
      "Taliyah 440\n",
      "Talon 504\n",
      "Taric 474\n",
      "Teemo 571\n",
      "Thresh 609\n",
      "Tristana 616\n",
      "Trundle 475\n",
      "Tryndamere 534\n",
      "TwistedFate 587\n",
      "Twitch 587\n",
      "Udyr 491\n",
      "Urgot 463\n",
      "Varus 577\n",
      "Vayne 629\n",
      "Veigar 600\n",
      "Velkoz 525\n",
      "Vi 510\n",
      "Viktor 496\n",
      "Vladimir 591\n",
      "Volibear 508\n",
      "Warwick 604\n",
      "Xayah 492\n",
      "Xerath 501\n",
      "XinZhao 537\n",
      "Yasuo 560\n",
      "Yone 223\n",
      "Yorick 409\n",
      "Yuumi 349\n",
      "Zac 500\n",
      "Zed 553\n",
      "Ziggs 525\n",
      "Zilean 507\n",
      "Zoe 451\n",
      "Zyra 483\n"
     ]
    }
   ],
   "source": [
    "i = 0\n",
    "for championID in champ_map:\n",
    "    count = 0\n",
    "    for row in df['championID']: \n",
    "        if row == championID:\n",
    "            count += 1\n",
    "    print(champ_map[championID], count)"
   ]
  },
  {
   "cell_type": "code",
   "execution_count": null,
   "metadata": {},
   "outputs": [],
   "source": []
  },
  {
   "cell_type": "markdown",
   "metadata": {},
   "source": [
    "Getting a test data set"
   ]
  },
  {
   "cell_type": "code",
   "execution_count": 163,
   "metadata": {},
   "outputs": [
    {
     "name": "stdout",
     "output_type": "stream",
     "text": [
      "{'summonerID': ['dnSLtyOBJCQHDgOoe09CEP3LHs_HCdUbdOgKYFUVCbezLyw', 'dnSLtyOBJCQHDgOoe09CEP3LHs_HCdUbdOgKYFUVCbezLyw', 'dnSLtyOBJCQHDgOoe09CEP3LHs_HCdUbdOgKYFUVCbezLyw', 'dnSLtyOBJCQHDgOoe09CEP3LHs_HCdUbdOgKYFUVCbezLyw', 'dnSLtyOBJCQHDgOoe09CEP3LHs_HCdUbdOgKYFUVCbezLyw'], 'championID': [64, 412, 98, 53, 79], 'rating': [100, 55, 19, 18, 16]}\n"
     ]
    }
   ],
   "source": [
    "# Change this username to get results for other people\n",
    "username = \"jiwoo\"\n",
    "\n",
    "region = \"na1\"\n",
    "\n",
    "# Replace this with a non-expired API key from Riot Games\n",
    "apiKey = \"REPLACE ME\"\n",
    "\n",
    "Get_SummonerInfo_URL = \"https://\" + region + \".api.riotgames.com/lol/summoner/v4/summoners/by-name/\" + username + \"?api_key=\" + apiKey\n",
    "response = requests.get(Get_SummonerInfo_URL)\n",
    "summonerInfo = response.json()\n",
    "summonerID = summonerInfo['id']\n",
    "Get_ChampionMastery_URL = \"https://\" + region + \".api.riotgames.com/lol/champion-mastery/v4/champion-masteries/by-summoner/\" + summonerID + \"?api_key=\" + apiKey\n",
    "response = requests.get(Get_ChampionMastery_URL)\n",
    "mastery_json = response.json()\n",
    "\n",
    "highestChampionPoints = 0\n",
    "\n",
    "for champion in mastery_json:\n",
    "    if(champion['championPoints'] > highestChampionPoints):\n",
    "        highestChampionPoints = champion['championPoints']\n",
    "\n",
    "myDict = {'summonerID': [], 'championID': [], 'rating': []}\n",
    "\n",
    "#change this for more data points\n",
    "max_champs = 5\n",
    "\n",
    "for x in range(0, min(len(mastery_json), max_champs)):\n",
    "    normalized_points = round(mastery_json[x][\"championPoints\"] / highestChampionPoints * 100)\n",
    "    myDict['summonerID'].append(summonerID)\n",
    "    myDict['championID'].append(mastery_json[x][\"championId\"])\n",
    "    myDict['rating'].append(normalized_points)\n",
    "\n",
    "print(myDict)"
   ]
  },
  {
   "cell_type": "markdown",
   "metadata": {},
   "source": [
    "Zero filling the remainder of the of the test data "
   ]
  },
  {
   "cell_type": "code",
   "execution_count": 164,
   "metadata": {},
   "outputs": [],
   "source": [
    "length = 0\n",
    "for champ in champ_map:\n",
    "    if int(champ) not in myDict['championID']:\n",
    "        length += 1\n",
    "        myDict['summonerID'].append(summonerID)\n",
    "        myDict['championID'].append(int(champ))\n",
    "        myDict['rating'].append(0)"
   ]
  },
  {
   "cell_type": "markdown",
   "metadata": {},
   "source": [
    "Appending the test data, seperating and fitting the algorithm again"
   ]
  },
  {
   "cell_type": "code",
   "execution_count": 165,
   "metadata": {
    "scrolled": true
   },
   "outputs": [],
   "source": [
    "dataframe = df.append(pd.DataFrame(myDict))\n",
    "data = Dataset.load_from_df(dataframe[['summonerID', 'championID', 'rating']], dfreader)\n",
    "trainset, testset = train_test_split(data, shuffle=False, test_size=length)\n",
    "algo.fit(trainset)\n",
    "predictions = algo.test(testset, verbose=False)"
   ]
  },
  {
   "cell_type": "markdown",
   "metadata": {},
   "source": [
    "Get the top n number of predictions"
   ]
  },
  {
   "cell_type": "code",
   "execution_count": 166,
   "metadata": {},
   "outputs": [],
   "source": [
    "n = 5\n",
    "top_n = defaultdict(list)\n",
    "for summonerID, championID, true_r, est, _ in predictions:\n",
    "    top_n[summonerID].append((championID, est))\n",
    "\n",
    "for summonerID, user_ratings in top_n.items():\n",
    "    user_ratings.sort(key=lambda x: x[1], reverse=True)\n",
    "    if n == \"max\":\n",
    "        top_n[summonerID] = user_ratings\n",
    "    else:\n",
    "        top_n[summonerID] = user_ratings[:n]"
   ]
  },
  {
   "cell_type": "markdown",
   "metadata": {},
   "source": [
    "Output into readable language"
   ]
  },
  {
   "cell_type": "code",
   "execution_count": 167,
   "metadata": {
    "scrolled": true
   },
   "outputs": [
    {
     "name": "stdout",
     "output_type": "stream",
     "text": [
      "Your top champions are: LeeSin, Thresh, Shen, Blitzcrank, Gragas\n",
      "So I recommend: Riven, Elise, Caitlyn, Bard, Rengar\n"
     ]
    }
   ],
   "source": [
    "output = \"\"\n",
    "for x in range(0, len(champ_map) - length):\n",
    "    output = champ_map[myDict['championID'][-(x + length + 1)]] + \", \" + output\n",
    "output = output[:-2] + \"\\n\"\n",
    "output = \"Your top champions are: \" + output\n",
    "\n",
    "# Print the recommended items for each user\n",
    "for summonerID, user_ratings in top_n.items():\n",
    "    output += \"So I recommend: \"\n",
    "    for (championID, _) in user_ratings:\n",
    "            output += champ_map[championID] + \", \"\n",
    "    output = output[:-2]\n",
    "\n",
    "print(output)"
   ]
  },
  {
   "cell_type": "markdown",
   "metadata": {},
   "source": [
    "# Checking Results"
   ]
  },
  {
   "cell_type": "markdown",
   "metadata": {},
   "source": [
    "Creating helper function to get the input data into the necessary format for the algorithm"
   ]
  },
  {
   "cell_type": "code",
   "execution_count": 146,
   "metadata": {},
   "outputs": [],
   "source": [
    "def getMasteries(username):    \n",
    "    # Replace this with a up to date API Key from Riot Games\n",
    "    apiKey = \"REPLACE ME\"\n",
    "    \n",
    "    region = \"na1\"\n",
    "    Get_SummonerInfo_URL = \"https://\" + region + \".api.riotgames.com/lol/summoner/v4/summoners/by-name/\" + username + \"?api_key=\" + apiKey\n",
    "    response = requests.get(Get_SummonerInfo_URL)\n",
    "    summonerInfo = response.json()\n",
    "    summonerID = summonerInfo['id']\n",
    "    Get_ChampionMastery_URL = \"https://\" + region + \".api.riotgames.com/lol/champion-mastery/v4/champion-masteries/by-summoner/\" + summonerID + \"?api_key=\" + apiKey\n",
    "    response = requests.get(Get_ChampionMastery_URL)\n",
    "    mastery_json = response.json()\n",
    "\n",
    "    highestChampionPoints = 0\n",
    "\n",
    "    for champion in mastery_json:\n",
    "        if(champion['championPoints'] > highestChampionPoints):\n",
    "            highestChampionPoints = champion['championPoints']\n",
    "\n",
    "    myDict = {'summonerID': [], 'championID': [], 'rating': []}\n",
    "    max_champs = 5\n",
    "\n",
    "    for x in range(0, min(len(mastery_json), max_champs)):\n",
    "        normalized_points = round(mastery_json[x][\"championPoints\"] / highestChampionPoints * 100)\n",
    "        myDict['summonerID'].append(summonerID)\n",
    "        myDict['championID'].append(mastery_json[x][\"championId\"])\n",
    "        myDict['rating'].append(normalized_points)\n",
    "\n",
    "    return summonerID, myDict"
   ]
  },
  {
   "cell_type": "markdown",
   "metadata": {},
   "source": [
    "Function to output the results"
   ]
  },
  {
   "cell_type": "code",
   "execution_count": 129,
   "metadata": {},
   "outputs": [],
   "source": [
    "def recommendfor(username):\n",
    "    champ_map = {266: 'Aatrox', 103: 'Ahri', 84: 'Akali',12: 'Alistar',32: 'Amumu',34: 'Anivia',1: 'Annie',523: 'Aphelios',\n",
    "    22: 'Ashe', 136: 'AurelionSol', 268: 'Azir',432: 'Bard',53: 'Blitzcrank',63: 'Brand',201: 'Braum',\n",
    "    51: 'Caitlyn',164: 'Camille', 69: 'Cassiopeia',31: 'Chogath',42: 'Corki',122: 'Darius',131: 'Diana',\n",
    "    119: 'Draven',36: 'DrMundo',245: 'Ekko', 60: 'Elise',28: 'Evelynn',81: 'Ezreal',9: 'Fiddlesticks',\n",
    "    114: 'Fiora',105: 'Fizz',3: 'Galio',41: 'Gangplank', 86: 'Garen',150: 'Gnar',79: 'Gragas',104: 'Graves',\n",
    "    120: 'Hecarim',74: 'Heimerdinger',420: 'Illaoi',39: 'Irelia', 427: 'Ivern',40: 'Janna',59: 'JarvanIV',\n",
    "    24: 'Jax',126: 'Jayce',202: 'Jhin',222: 'Jinx',145: 'Kaisa',429: 'Kalista', 43: 'Karma',30: 'Karthus',\n",
    "    38: 'Kassadin',55: 'Katarina',10: 'Kayle', 141: 'Kayn',85: 'Kennen',121: 'Khazix', 203: 'Kindred', 240: 'Kled',\n",
    "    96: 'KogMaw',7: 'Leblanc',64: 'LeeSin',89: 'Leona',876: 'Lillia',127: 'Lissandra', 236: 'Lucian',117: 'Lulu',\n",
    "    99: 'Lux',54: 'Malphite',90: 'Malzahar',57: 'Maokai',11: 'MasterYi',21: 'MissFortune', 62: 'MonkeyKing',\n",
    "    82: 'Mordekaiser',25: 'Morgana',267: 'Nami',75: 'Nasus',111: 'Nautilus',518: 'Neeko',76: 'Nidalee',\n",
    "    56: 'Nocturne',20: 'Nunu',2: 'Olaf',61: 'Orianna',516: 'Ornn',80: 'Pantheon',78: 'Poppy',555: 'Pyke',\n",
    "    246: 'Qiyana', 133: 'Quinn',497: 'Rakan',33: 'Rammus',421: 'RekSai',526: 'Rell',58: 'Renekton',107: 'Rengar',\n",
    "    92: 'Riven', 68: 'Rumble',13: 'Ryze',360: 'Samira',113: 'Sejuani',235: 'Senna',147: 'Seraphine',875: 'Sett',\n",
    "    35: 'Shaco', 98: 'Shen',102: 'Shyvana',27: 'Singed',14: 'Sion',15: 'Sivir',72: 'Skarner',37: 'Sona',\n",
    "    16: 'Soraka',50: 'Swain', 517: 'Sylas',134: 'Syndra',223: 'TahmKench',163: 'Taliyah',91: 'Talon',44: 'Taric', \n",
    "    17: 'Teemo',412: 'Thresh', 18: 'Tristana',48: 'Trundle',23: 'Tryndamere',4: 'TwistedFate',29: 'Twitch',\n",
    "    77: 'Udyr',6: 'Urgot',110: 'Varus', 67: 'Vayne',45: 'Veigar',161: 'Velkoz',254: 'Vi',112: 'Viktor',\n",
    "    8: 'Vladimir',106: 'Volibear',19: 'Warwick', 498: 'Xayah',101: 'Xerath',5: 'XinZhao',157: 'Yasuo',\n",
    "    777: 'Yone',83: 'Yorick',350: 'Yuumi',154: 'Zac',238: 'Zed', 115: 'Ziggs',26: 'Zilean',142: 'Zoe',143: 'Zyra',}\n",
    "\n",
    "\n",
    "    df = pd.read_csv('leaderboard_masteries.csv', header=None, names=['summonerID', 'championID', 'rating'])\n",
    "\n",
    "    dfreader = Reader(rating_scale=(1, 100))\n",
    "    data = Dataset.load_from_df(df[['summonerID', 'championID', 'rating']], dfreader)\n",
    "    trainset = data.build_full_trainset()\n",
    "\n",
    "    algo = SVD()\n",
    "    algo.random_state = 1\n",
    "    algo.fit(trainset)\n",
    "\n",
    "    summ_id, ratings_dict = getMasteries(username)\n",
    "\n",
    "    length = 0\n",
    "    for champ in champ_map:\n",
    "        if int(champ) not in ratings_dict['championID']:\n",
    "            length += 1\n",
    "            ratings_dict['summonerID'].append(summ_id)\n",
    "            ratings_dict['championID'].append(int(champ))\n",
    "            ratings_dict['rating'].append(0)\n",
    "    dataframe = df.append(pd.DataFrame(ratings_dict))\n",
    "    data = Dataset.load_from_df(dataframe[['summonerID', 'championID', 'rating']], dfreader)\n",
    "    trainset, testset = train_test_split(data, shuffle=False, test_size=length)\n",
    "\n",
    "    algo.fit(trainset)\n",
    "    predictions = algo.test(testset, verbose=False)\n",
    "    \n",
    "    n = 5\n",
    "    top_n = defaultdict(list)\n",
    "    for summonerID, championID, true_r, est, _ in predictions:\n",
    "        top_n[summonerID].append((championID, est))\n",
    "\n",
    "    for summonerID, user_ratings in top_n.items():\n",
    "        user_ratings.sort(key=lambda x: x[1], reverse=True)\n",
    "        if n == \"max\":\n",
    "            top_n[summonerID] = user_ratings\n",
    "        else:\n",
    "            top_n[summonerID] = user_ratings[:n]\n",
    "\n",
    "    return top_n[summonerID]"
   ]
  },
  {
   "cell_type": "code",
   "execution_count": 138,
   "metadata": {},
   "outputs": [],
   "source": [
    "champDict = {266: ['Aatrox',0], 103: ['Ahri',0], 84: ['Akali',0],12: ['Alistar',0],32: ['Amumu',0],34: ['Anivia',0],\n",
    "            1: ['Annie',0],523: ['Aphelios',0], 22: ['Ashe',0], 136: ['AurelionSol',0], 268: ['Azir',0],432: ['Bard',0],\n",
    "            53: ['Blitzcrank',0],63: ['Brand',0],201: ['Braum',0], 51: ['Caitlyn',0],164: ['Camille',0], \n",
    "            69: ['Cassiopeia',0], 31: ['Chogath',0],42: ['Corki',0],122: ['Darius',0],131: ['Diana',0],\n",
    "            119: ['Draven',0],36: ['DrMundo',0],245: ['Ekko',0], 60: ['Elise',0],28: ['Evelynn',0],81: ['Ezreal',0],\n",
    "            9: ['Fiddlesticks',0], 114: ['Fiora',0],105: ['Fizz',0],3: ['Galio',0],41: ['Gangplank',0], 86: ['Garen',0],\n",
    "            150: ['Gnar',0],79: ['Gragas',0],104: ['Graves',0], 120: ['Hecarim',0],74: ['Heimerdinger',0],420: ['Illaoi',0],\n",
    "            39: ['Irelia',0], 427: ['Ivern',0],40:['Janna',0],59: ['JarvanIV',0], 24: ['Jax',0],126: ['Jayce',0],\n",
    "            202: ['Jhin',0],222: ['Jinx',0],145: ['Kaisa',0],429: ['Kalista',0], 43: ['Karma',0],30: ['Karthus',0],\n",
    "            38: ['Kassadin',0],55: ['Katarina',0],10: ['Kayle',0], 141: ['Kayn',0],85: ['Kennen',0],121: ['Khazix',0], \n",
    "            203: ['Kindred',0], 240: ['Kled',0], 96: ['KogMaw',0],7: ['Leblanc',0],64: ['LeeSin',0],89: ['Leona',0],\n",
    "            876: ['Lillia',0],127: ['Lissandra',0], 236: ['Lucian',0],117: ['Lulu',0], 99: ['Lux',0],54: ['Malphite',0],\n",
    "            90: ['Malzahar',0],57: ['Maokai',0],11: ['MasterYi',0],21: ['MissFortune',0], 62: ['MonkeyKing',0],\n",
    "            82: ['Mordekaiser',0],25: ['Morgana',0],267: ['Nami',0],75: ['Nasus',0],111: ['Nautilus',0],518: ['Neeko',0],\n",
    "            76: ['Nidalee',0], 56: ['Nocturne',0],20: ['Nunu',0],2: ['Olaf',0],61: ['Orianna',0],516: ['Ornn',0],\n",
    "            80: ['Pantheon',0],78: ['Poppy',0],555: ['Pyke',0], 246: ['Qiyana',0], 133: ['Quinn',0],497: ['Rakan',0],\n",
    "            33: ['Rammus',0],421: ['RekSai',0],526: ['Rell',0],58: ['Renekton',0],107: ['Rengar',0], 92: ['Riven',0], \n",
    "            68: ['Rumble',0],13: ['Ryze',0],360: ['Samira',0],113: ['Sejuani',0],235: ['Senna',0],147: ['Seraphine',0],\n",
    "            875: ['Sett',0], 35: ['Shaco',0], 98: ['Shen',0],102: ['Shyvana',0],27: ['Singed',0],14: ['Sion',0],\n",
    "            15: ['Sivir',0],72: ['Skarner',0],37: ['Sona',0], 16: ['Soraka',0],50: ['Swain',0], 517: ['Sylas',0],\n",
    "            134: ['Syndra',0],223: ['TahmKench',0],163: ['Taliyah',0],91: ['Talon',0],44: ['Taric',0], 17: ['Teemo',0],\n",
    "            412: ['Thresh',0], 18: ['Tristana',0],48: ['Trundle',0],23: ['Tryndamere',0],4: ['TwistedFate',0],\n",
    "            29: ['Twitch',0], 77: ['Udyr',0],6: ['Urgot',0],110: ['Varus',0], 67: ['Vayne',0],45: ['Veigar',0],\n",
    "            161: ['Velkoz',0],254: ['Vi',0],112: ['Viktor',0], 8: ['Vladimir',0],106: ['Volibear',0],19: ['Warwick',0], \n",
    "            498: ['Xayah',0],101: ['Xerath',0],5: ['XinZhao',0],157: ['Yasuo',0], 777: ['Yone',0],83: ['Yorick',0],\n",
    "            350: ['Yuumi',0],154: ['Zac',0],238: ['Zed',0], 115: ['Ziggs',0],26: ['Zilean',0],142: ['Zoe',0],\n",
    "            143: ['Zyra',0]}"
   ]
  },
  {
   "cell_type": "markdown",
   "metadata": {},
   "source": [
    "## Loading List of Players to Recommend Champions for"
   ]
  },
  {
   "cell_type": "code",
   "execution_count": 141,
   "metadata": {},
   "outputs": [
    {
     "data": {
      "text/html": [
       "<div>\n",
       "<style scoped>\n",
       "    .dataframe tbody tr th:only-of-type {\n",
       "        vertical-align: middle;\n",
       "    }\n",
       "\n",
       "    .dataframe tbody tr th {\n",
       "        vertical-align: top;\n",
       "    }\n",
       "\n",
       "    .dataframe thead th {\n",
       "        text-align: right;\n",
       "    }\n",
       "</style>\n",
       "<table border=\"1\" class=\"dataframe\">\n",
       "  <thead>\n",
       "    <tr style=\"text-align: right;\">\n",
       "      <th></th>\n",
       "      <th>summonerName</th>\n",
       "    </tr>\n",
       "  </thead>\n",
       "  <tbody>\n",
       "    <tr>\n",
       "      <th>0</th>\n",
       "      <td>christian480</td>\n",
       "    </tr>\n",
       "    <tr>\n",
       "      <th>1</th>\n",
       "      <td>mochitan</td>\n",
       "    </tr>\n",
       "    <tr>\n",
       "      <th>2</th>\n",
       "      <td>chrisosaur214</td>\n",
       "    </tr>\n",
       "    <tr>\n",
       "      <th>3</th>\n",
       "      <td>crackerjax</td>\n",
       "    </tr>\n",
       "    <tr>\n",
       "      <th>4</th>\n",
       "      <td>skullkidteffsly</td>\n",
       "    </tr>\n",
       "  </tbody>\n",
       "</table>\n",
       "</div>"
      ],
      "text/plain": [
       "      summonerName\n",
       "0     christian480\n",
       "1         mochitan\n",
       "2    chrisosaur214\n",
       "3       crackerjax\n",
       "4  skullkidteffsly"
      ]
     },
     "execution_count": 141,
     "metadata": {},
     "output_type": "execute_result"
    }
   ],
   "source": [
    "checked_df = pd.read_csv('checkedUsernames.csv', header=None, names=['summonerName'])\n",
    "checked_df.head()"
   ]
  },
  {
   "cell_type": "markdown",
   "metadata": {},
   "source": [
    "## Recommending Champions to Them"
   ]
  },
  {
   "cell_type": "code",
   "execution_count": 156,
   "metadata": {},
   "outputs": [],
   "source": [
    "for index,row in checked_df.iterrows():\n",
    "    topRecommendations = recommendfor(row[0])\n",
    "    for champion in topRecommendations:\n",
    "        champDict[champion[0]][1] += 1  "
   ]
  },
  {
   "cell_type": "markdown",
   "metadata": {},
   "source": [
    "## Exporting Results to a Bar Graph"
   ]
  },
  {
   "cell_type": "code",
   "execution_count": 214,
   "metadata": {},
   "outputs": [],
   "source": [
    "xValues = []\n",
    "for key in champDict:\n",
    "    xValues.append(champDict[key][0])"
   ]
  },
  {
   "cell_type": "code",
   "execution_count": 216,
   "metadata": {},
   "outputs": [],
   "source": [
    "yValues = []\n",
    "for key in champDict:\n",
    "    yValues.append(champDict[key][1])"
   ]
  },
  {
   "cell_type": "code",
   "execution_count": 249,
   "metadata": {},
   "outputs": [
    {
     "data": {
      "image/png": "[encoded data removed]",
      "text/plain": [
       "<Figure size 3600x720 with 1 Axes>"
      ]
     },
     "metadata": {
      "needs_background": "light"
     },
     "output_type": "display_data"
    }
   ],
   "source": [
    "plt.figure(figsize=(50,10))\n",
    "plt.xticks(rotation='vertical', fontsize = 12)\n",
    "plt.gca().margins(x=0)\n",
    "plt.bar(xValues,yValues)\n",
    "plt.savefig(\"test.jpg\")"
   ]
  },
  {
   "cell_type": "markdown",
   "metadata": {},
   "source": [
    "### Counting zero recommendations"
   ]
  },
  {
   "cell_type": "code",
   "execution_count": 250,
   "metadata": {},
   "outputs": [
    {
     "name": "stdout",
     "output_type": "stream",
     "text": [
      "68\n"
     ]
    }
   ],
   "source": [
    "zero_count = 0\n",
    "for value in yValues:\n",
    "    if value == 0:\n",
    "        zero_count += 1\n",
    "print(zero_count)"
   ]
  },
  {
   "cell_type": "code",
   "execution_count": null,
   "metadata": {},
   "outputs": [],
   "source": []
  }
 ],
 "metadata": {
  "kernelspec": {
   "display_name": "Python 3",
   "language": "python",
   "name": "python3"
  },
  "language_info": {
   "codemirror_mode": {
    "name": "ipython",
    "version": 3
   },
   "file_extension": ".py",
   "mimetype": "text/x-python",
   "name": "python",
   "nbconvert_exporter": "python",
   "pygments_lexer": "ipython3",
   "version": "3.8.5"
  }
 },
 "nbformat": 4,
 "nbformat_minor": 4
}
