{
 "cells": [
  {
   "cell_type": "markdown",
   "metadata": {},
   "source": [
    "# CSCI 353 Final Project"
   ]
  },
  {
   "cell_type": "markdown",
   "metadata": {},
   "source": [
    "## Info Gathering"
   ]
  },
  {
   "cell_type": "code",
   "execution_count": 43,
   "metadata": {},
   "outputs": [],
   "source": [
    "import requests\n",
    "import csv\n",
    "import time\n",
    "apiKey = \"RGAPI-be959b08-d8ec-431f-bc9a-4d92c9b0715a\"\n",
    "region = \"eun1\"\n",
    "\n",
    "#username --> accountID-->matchID-->match info"
   ]
  },
  {
   "cell_type": "code",
   "execution_count": 45,
   "metadata": {},
   "outputs": [
    {
     "name": "stdout",
     "output_type": "stream",
     "text": [
      "9OXCsiy97lehDzBKC0Oft11LdUoqitz8GiELnV1GD8pr51Q\n",
      "17324KH-Pka9N3SPD7a7PHopKmBlV7X6kXmGmU_1zZv8pA\n",
      "XrjIy4oO5N3VTCvw_HHK90juA6TYNgZHMumF3OznSvlnmNCsib4cvr_4\n",
      "GynBoMJ52DR7AbAavRQW_VtIkjt4Pk5BLKfPePFRKK-oqkw\n",
      "hIOKOF5mS1FcBzXVSE9Zrdg769HKBdE-RRA0NziVYPb3ffM\n",
      "paF2C9gvJ4b7DeiyK09MeAwMMx3H09uOWpOpyrSxWZP5KZ4\n",
      "SyPqKTJUXy04Ailw6egyKwTWVEfZ_BCI9o1x3O6tG8nWxKc\n",
      "COLENgYK7MGC-BUQKU1K3KgNf1Iiw-D71x-h-MpYLbVEGA8\n",
      "lp6gyJCezlLFabb_tiq46J4-YvOEpVyv_daj1j7ey3le9A\n"
     ]
    },
    {
     "ename": "KeyError",
     "evalue": "'accountId'",
     "output_type": "error",
     "traceback": [
      "\u001b[0;31m---------------------------------------------------------------------------\u001b[0m",
      "\u001b[0;31mKeyError\u001b[0m                                  Traceback (most recent call last)",
      "\u001b[0;32m<ipython-input-45-5cb3e86fcca8>\u001b[0m in \u001b[0;36m<module>\u001b[0;34m\u001b[0m\n\u001b[1;32m      9\u001b[0m             \u001b[0mresponse\u001b[0m \u001b[0;34m=\u001b[0m \u001b[0mrequests\u001b[0m\u001b[0;34m.\u001b[0m\u001b[0mget\u001b[0m\u001b[0;34m(\u001b[0m\u001b[0mURL\u001b[0m\u001b[0;34m)\u001b[0m\u001b[0;34m\u001b[0m\u001b[0;34m\u001b[0m\u001b[0m\n\u001b[1;32m     10\u001b[0m             \u001b[0mplayerInfo\u001b[0m \u001b[0;34m=\u001b[0m \u001b[0mresponse\u001b[0m\u001b[0;34m.\u001b[0m\u001b[0mjson\u001b[0m\u001b[0;34m(\u001b[0m\u001b[0;34m)\u001b[0m\u001b[0;34m\u001b[0m\u001b[0;34m\u001b[0m\u001b[0m\n\u001b[0;32m---> 11\u001b[0;31m             \u001b[0mprint\u001b[0m\u001b[0;34m(\u001b[0m\u001b[0mplayerInfo\u001b[0m\u001b[0;34m[\u001b[0m\u001b[0;34m'accountId'\u001b[0m\u001b[0;34m]\u001b[0m\u001b[0;34m)\u001b[0m\u001b[0;34m\u001b[0m\u001b[0;34m\u001b[0m\u001b[0m\n\u001b[0m\u001b[1;32m     12\u001b[0m             \u001b[0mcsvFileWriter\u001b[0m\u001b[0;34m.\u001b[0m\u001b[0mwriterow\u001b[0m\u001b[0;34m(\u001b[0m\u001b[0;34m[\u001b[0m\u001b[0mplayerInfo\u001b[0m\u001b[0;34m[\u001b[0m\u001b[0;34m'accountId'\u001b[0m\u001b[0;34m]\u001b[0m\u001b[0;34m]\u001b[0m\u001b[0;34m)\u001b[0m\u001b[0;34m\u001b[0m\u001b[0;34m\u001b[0m\u001b[0m\n",
      "\u001b[0;31mKeyError\u001b[0m: 'accountId'"
     ]
    }
   ],
   "source": [
    "# username --> accountID (AccountID don't change)\n",
    "\n",
    "with open('EUN_accountIDs.csv', mode='a', newline='') as accountIDs:\n",
    "    csvFileWriter = csv.writer(accountIDs, delimiter=',', quotechar='\"', quoting=csv.QUOTE_MINIMAL)\n",
    "    with open('EUN1_usernames.csv', mode='r') as usernames:\n",
    "        csv_reader = csv.reader(usernames)\n",
    "        for row in csv_reader:\n",
    "            URL = \"https://\" + region + \".api.riotgames.com/lol/summoner/v4/summoners/by-name/\" + row[0] + \"?api_key=\" + apiKey\n",
    "            response = requests.get(URL)\n",
    "            playerInfo = response.json()\n",
    "            print(playerInfo['accountId'])\n",
    "            csvFileWriter.writerow([playerInfo['accountId']])"
   ]
  },
  {
   "cell_type": "code",
   "execution_count": 46,
   "metadata": {},
   "outputs": [],
   "source": [
    "#accountID --> matchID\n",
    "count = 0\n",
    "\n",
    "with open('EUN_gameIDs.csv', mode='a', newline='') as gameIDs:\n",
    "     csvFileWriter = csv.writer(gameIDs, delimiter=',', quotechar='\"', quoting=csv.QUOTE_MINIMAL)\n",
    "     with open('EUN_accountIDs.csv', mode='r') as accountIDs:\n",
    "         csv_reader = csv.reader(accountIDs)\n",
    "         for row in csv_reader:\n",
    "             count+=1\n",
    "             if(count == 20):\n",
    "                time.sleep(10) #pause for 10 seconds\n",
    "                count=0\n",
    "             URL = \"https://\"+region+\".api.riotgames.com/lol/match/v4/matchlists/by-account/\" + row[0] + \"?queue=420&season=13&api_key=\" + apiKey\n",
    "             response = requests.get(URL)\n",
    "             gameInfo = response.json()\n",
    "             for game in gameInfo['matches']:\n",
    "                 with open('EUN_gameIDs.csv', mode='r') as readGameIDs:\n",
    "                     gameID_reader = csv.reader(readGameIDs)\n",
    "                     duplicateFound = False\n",
    "                     for gameId in gameID_reader:\n",
    "                         if(gameId == game['gameId']):\n",
    "                             duplicateFound = True\n",
    "                     if(not duplicateFound):\n",
    "                         csvFileWriter.writerow([game['gameId']])\n",
    "                            \n",
    "\n"
   ]
  },
  {
   "cell_type": "code",
   "execution_count": 47,
   "metadata": {},
   "outputs": [
    {
     "ename": "KeyError",
     "evalue": "'participants'",
     "output_type": "error",
     "traceback": [
      "\u001b[0;31m---------------------------------------------------------------------------\u001b[0m",
      "\u001b[0;31mKeyError\u001b[0m                                  Traceback (most recent call last)",
      "\u001b[0;32m<ipython-input-47-9c38408b1670>\u001b[0m in \u001b[0;36m<module>\u001b[0;34m\u001b[0m\n\u001b[1;32m     15\u001b[0m                 \u001b[0mgameInformation\u001b[0m \u001b[0;34m=\u001b[0m \u001b[0mresponse\u001b[0m\u001b[0;34m.\u001b[0m\u001b[0mjson\u001b[0m\u001b[0;34m(\u001b[0m\u001b[0;34m)\u001b[0m\u001b[0;34m\u001b[0m\u001b[0;34m\u001b[0m\u001b[0m\n\u001b[1;32m     16\u001b[0m \u001b[0;34m\u001b[0m\u001b[0m\n\u001b[0;32m---> 17\u001b[0;31m                 \u001b[0;32mfor\u001b[0m \u001b[0mparticipant\u001b[0m \u001b[0;32min\u001b[0m \u001b[0mgameInformation\u001b[0m\u001b[0;34m[\u001b[0m\u001b[0;34m\"participants\"\u001b[0m\u001b[0;34m]\u001b[0m\u001b[0;34m:\u001b[0m\u001b[0;34m\u001b[0m\u001b[0;34m\u001b[0m\u001b[0m\n\u001b[0m\u001b[1;32m     18\u001b[0m                     \u001b[0mrecord\u001b[0m\u001b[0;34m.\u001b[0m\u001b[0mappend\u001b[0m\u001b[0;34m(\u001b[0m\u001b[0mparticipant\u001b[0m\u001b[0;34m[\u001b[0m\u001b[0;34m\"championId\"\u001b[0m\u001b[0;34m]\u001b[0m\u001b[0;34m)\u001b[0m\u001b[0;34m\u001b[0m\u001b[0;34m\u001b[0m\u001b[0m\n\u001b[1;32m     19\u001b[0m                 \u001b[0;32mif\u001b[0m\u001b[0;34m(\u001b[0m\u001b[0mgameInformation\u001b[0m\u001b[0;34m[\u001b[0m\u001b[0;34m\"teams\"\u001b[0m\u001b[0;34m]\u001b[0m\u001b[0;34m[\u001b[0m\u001b[0;36m0\u001b[0m\u001b[0;34m]\u001b[0m\u001b[0;34m[\u001b[0m\u001b[0;34m\"win\"\u001b[0m\u001b[0;34m]\u001b[0m \u001b[0;34m==\u001b[0m \u001b[0;34m\"Win\"\u001b[0m\u001b[0;34m)\u001b[0m\u001b[0;34m:\u001b[0m\u001b[0;34m\u001b[0m\u001b[0;34m\u001b[0m\u001b[0m\n",
      "\u001b[0;31mKeyError\u001b[0m: 'participants'"
     ]
    }
   ],
   "source": [
    "#matchID --> match Info\n",
    "count = 0\n",
    "\n",
    "record = []\n",
    "with open('gameInfo.csv', mode='a', newline='') as gameInfo:\n",
    "    csvFileWriter = csv.writer(gameInfo, delimiter=',', quotechar='\"', quoting=csv.QUOTE_MINIMAL)\n",
    "    with open('EUN_gameIDs.csv', mode='r') as gameIDs:\n",
    "        csv_reader = csv.reader(gameIDs)\n",
    "        for row in csv_reader:\n",
    "            URL = \"https://\"+ region +\".api.riotgames.com/lol/match/v4/matches/\" + row[0] + \"?api_key=\" + apiKey\n",
    "            \n",
    "            if(count < 10):\n",
    "                count += 1\n",
    "                response = requests.get(URL)\n",
    "                gameInformation = response.json()\n",
    "                \n",
    "                for participant in gameInformation[\"participants\"]:\n",
    "                    record.append(participant[\"championId\"])\n",
    "                if(gameInformation[\"teams\"][0][\"win\"] == \"Win\"):\n",
    "                    record.append(1)\n",
    "                else:\n",
    "                    record.append(0)\n",
    "                csvFileWriter.writerow(record)\n",
    "                record.clear()\n",
    "            else:\n",
    "                time.sleep(5) #wait for 5 seconds\n",
    "                count=0"
   ]
  },
  {
   "cell_type": "code",
   "execution_count": null,
   "metadata": {},
   "outputs": [],
   "source": []
  }
 ],
 "metadata": {
  "kernelspec": {
   "display_name": "Python 3",
   "language": "python",
   "name": "python3"
  },
  "language_info": {
   "codemirror_mode": {
    "name": "ipython",
    "version": 3
   },
   "file_extension": ".py",
   "mimetype": "text/x-python",
   "name": "python",
   "nbconvert_exporter": "python",
   "pygments_lexer": "ipython3",
   "version": "3.8.3"
  }
 },
 "nbformat": 4,
 "nbformat_minor": 4
}
