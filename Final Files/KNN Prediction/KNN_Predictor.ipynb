{
 "cells": [
  {
   "cell_type": "markdown",
   "metadata": {},
   "source": [
    "# Binary Classification - League of Legends Season 13 tournament Dataset\n",
    "\n",
    "In this notebook we are attempting to see if the K-Nearest Neighbor (K-NN) predictor model still gives about 50% prediction accuracy with the current state of the Riot Games multiplayer online battle arena game, League of Legends.\n",
    "\n",
    "## Dataset\n",
    "We will be using the Game_Info.csv file that was compiled by our group. The dataset was compiled by using professional players that had attended and/or competed in the Worlds 2020 Tournament in Shanghai, China in October of 2020. \n",
    "\n",
    "The game information that was gathered were tournament games played by the players. The data that was gathered were:\n",
    "\n",
    "    - The match ID number\n",
    "    - The region where it was played\n",
    "    - The season in which the match was played\n",
    "    - The winning team of the match\n",
    "    - The champions that were played and the spells used by that champion\n",
    "    \n",
    "The total number of matches that we were able to compile was total of 2825 from various regions. The China region was excluded in this collection of data due to the inability to access that information from any other server in the world.\n",
    "\n",
    "The target label for this dataset is 'Winner' because we were attempting to predict the winner of a match based on a team's champion selection.\n",
    "    \n",
    "    Blue Team Winner (C1-C5): 0\n",
    "    Red Team Winner (C6-C10): 1\n",
    "\n",
    "## Goals\n",
    "We will use Scikit-Learn's K-NN classifier to predict the winner of a match."
   ]
  },
  {
   "cell_type": "code",
   "execution_count": 12,
   "metadata": {},
   "outputs": [],
   "source": [
    "import warnings\n",
    "import numpy as np\n",
    "import pandas as pd\n",
    "import matplotlib.pyplot as plt\n",
    "%matplotlib inline\n",
    "from sklearn.preprocessing import StandardScaler, scale\n",
    "from sklearn.neighbors import KNeighborsClassifier\n",
    "from sklearn.model_selection import train_test_split, GridSearchCV, cross_val_score, cross_val_predict\n",
    "from sklearn.metrics import confusion_matrix, precision_score, recall_score, f1_score, roc_curve, roc_auc_score\n",
    "from sklearn.metrics import precision_recall_curve, classification_report"
   ]
  },
  {
   "cell_type": "markdown",
   "metadata": {},
   "source": [
    "## Load the Data\n",
    "\n",
    "First load the data"
   ]
  },
  {
   "cell_type": "code",
   "execution_count": 13,
   "metadata": {},
   "outputs": [],
   "source": [
    "matches = pd.read_csv('Game_Info.csv', sep=\",\")"
   ]
  },
  {
   "cell_type": "code",
   "execution_count": 14,
   "metadata": {},
   "outputs": [
    {
     "data": {
      "text/html": [
       "<div>\n",
       "<style scoped>\n",
       "    .dataframe tbody tr th:only-of-type {\n",
       "        vertical-align: middle;\n",
       "    }\n",
       "\n",
       "    .dataframe tbody tr th {\n",
       "        vertical-align: top;\n",
       "    }\n",
       "\n",
       "    .dataframe thead th {\n",
       "        text-align: right;\n",
       "    }\n",
       "</style>\n",
       "<table border=\"1\" class=\"dataframe\">\n",
       "  <thead>\n",
       "    <tr style=\"text-align: right;\">\n",
       "      <th></th>\n",
       "      <th>gameID</th>\n",
       "      <th>platformID</th>\n",
       "      <th>seasonID</th>\n",
       "      <th>Winner</th>\n",
       "      <th>C1</th>\n",
       "      <th>C1S1</th>\n",
       "      <th>C1S2</th>\n",
       "      <th>C2</th>\n",
       "      <th>C2S1</th>\n",
       "      <th>C2S2</th>\n",
       "      <th>...</th>\n",
       "      <th>C7S2</th>\n",
       "      <th>C8</th>\n",
       "      <th>C8S1</th>\n",
       "      <th>C7S2.1</th>\n",
       "      <th>C9</th>\n",
       "      <th>C9S1</th>\n",
       "      <th>C9S2</th>\n",
       "      <th>C10</th>\n",
       "      <th>C10S1</th>\n",
       "      <th>C10S2</th>\n",
       "    </tr>\n",
       "  </thead>\n",
       "  <tbody>\n",
       "    <tr>\n",
       "      <th>0</th>\n",
       "      <td>3591397591</td>\n",
       "      <td>NA1</td>\n",
       "      <td>13</td>\n",
       "      <td>1</td>\n",
       "      <td>201</td>\n",
       "      <td>4</td>\n",
       "      <td>14</td>\n",
       "      <td>102</td>\n",
       "      <td>12</td>\n",
       "      <td>4</td>\n",
       "      <td>...</td>\n",
       "      <td>7</td>\n",
       "      <td>4</td>\n",
       "      <td>14</td>\n",
       "      <td>4</td>\n",
       "      <td>876</td>\n",
       "      <td>14</td>\n",
       "      <td>4</td>\n",
       "      <td>120</td>\n",
       "      <td>11</td>\n",
       "      <td>4</td>\n",
       "    </tr>\n",
       "    <tr>\n",
       "      <th>1</th>\n",
       "      <td>3653371287</td>\n",
       "      <td>NA1</td>\n",
       "      <td>13</td>\n",
       "      <td>0</td>\n",
       "      <td>120</td>\n",
       "      <td>11</td>\n",
       "      <td>6</td>\n",
       "      <td>13</td>\n",
       "      <td>12</td>\n",
       "      <td>4</td>\n",
       "      <td>...</td>\n",
       "      <td>4</td>\n",
       "      <td>11</td>\n",
       "      <td>11</td>\n",
       "      <td>4</td>\n",
       "      <td>55</td>\n",
       "      <td>14</td>\n",
       "      <td>4</td>\n",
       "      <td>86</td>\n",
       "      <td>14</td>\n",
       "      <td>4</td>\n",
       "    </tr>\n",
       "    <tr>\n",
       "      <th>2</th>\n",
       "      <td>3650198359</td>\n",
       "      <td>NA1</td>\n",
       "      <td>13</td>\n",
       "      <td>1</td>\n",
       "      <td>102</td>\n",
       "      <td>11</td>\n",
       "      <td>4</td>\n",
       "      <td>122</td>\n",
       "      <td>4</td>\n",
       "      <td>6</td>\n",
       "      <td>...</td>\n",
       "      <td>4</td>\n",
       "      <td>99</td>\n",
       "      <td>21</td>\n",
       "      <td>4</td>\n",
       "      <td>202</td>\n",
       "      <td>7</td>\n",
       "      <td>4</td>\n",
       "      <td>63</td>\n",
       "      <td>4</td>\n",
       "      <td>14</td>\n",
       "    </tr>\n",
       "    <tr>\n",
       "      <th>3</th>\n",
       "      <td>3645932094</td>\n",
       "      <td>NA1</td>\n",
       "      <td>13</td>\n",
       "      <td>0</td>\n",
       "      <td>18</td>\n",
       "      <td>4</td>\n",
       "      <td>7</td>\n",
       "      <td>99</td>\n",
       "      <td>3</td>\n",
       "      <td>4</td>\n",
       "      <td>...</td>\n",
       "      <td>4</td>\n",
       "      <td>254</td>\n",
       "      <td>11</td>\n",
       "      <td>4</td>\n",
       "      <td>777</td>\n",
       "      <td>4</td>\n",
       "      <td>14</td>\n",
       "      <td>150</td>\n",
       "      <td>4</td>\n",
       "      <td>12</td>\n",
       "    </tr>\n",
       "    <tr>\n",
       "      <th>4</th>\n",
       "      <td>3645761570</td>\n",
       "      <td>NA1</td>\n",
       "      <td>13</td>\n",
       "      <td>0</td>\n",
       "      <td>102</td>\n",
       "      <td>11</td>\n",
       "      <td>4</td>\n",
       "      <td>82</td>\n",
       "      <td>4</td>\n",
       "      <td>12</td>\n",
       "      <td>...</td>\n",
       "      <td>4</td>\n",
       "      <td>64</td>\n",
       "      <td>11</td>\n",
       "      <td>4</td>\n",
       "      <td>105</td>\n",
       "      <td>14</td>\n",
       "      <td>4</td>\n",
       "      <td>21</td>\n",
       "      <td>14</td>\n",
       "      <td>4</td>\n",
       "    </tr>\n",
       "  </tbody>\n",
       "</table>\n",
       "<p>5 rows × 34 columns</p>\n",
       "</div>"
      ],
      "text/plain": [
       "       gameID platformID  seasonID  Winner   C1  C1S1  C1S2   C2  C2S1  C2S2  \\\n",
       "0  3591397591        NA1        13       1  201     4    14  102    12     4   \n",
       "1  3653371287        NA1        13       0  120    11     6   13    12     4   \n",
       "2  3650198359        NA1        13       1  102    11     4  122     4     6   \n",
       "3  3645932094        NA1        13       0   18     4     7   99     3     4   \n",
       "4  3645761570        NA1        13       0  102    11     4   82     4    12   \n",
       "\n",
       "   ...  C7S2   C8  C8S1  C7S2.1   C9  C9S1  C9S2  C10  C10S1  C10S2  \n",
       "0  ...     7    4    14       4  876    14     4  120     11      4  \n",
       "1  ...     4   11    11       4   55    14     4   86     14      4  \n",
       "2  ...     4   99    21       4  202     7     4   63      4     14  \n",
       "3  ...     4  254    11       4  777     4    14  150      4     12  \n",
       "4  ...     4   64    11       4  105    14     4   21     14      4  \n",
       "\n",
       "[5 rows x 34 columns]"
      ]
     },
     "execution_count": 14,
     "metadata": {},
     "output_type": "execute_result"
    }
   ],
   "source": [
    "matches.head()"
   ]
  },
  {
   "cell_type": "code",
   "execution_count": 15,
   "metadata": {},
   "outputs": [
    {
     "data": {
      "text/plain": [
       "(2825, 34)"
      ]
     },
     "execution_count": 15,
     "metadata": {},
     "output_type": "execute_result"
    }
   ],
   "source": [
    "matches.shape"
   ]
  },
  {
   "cell_type": "code",
   "execution_count": 16,
   "metadata": {},
   "outputs": [
    {
     "data": {
      "text/html": [
       "<div>\n",
       "<style scoped>\n",
       "    .dataframe tbody tr th:only-of-type {\n",
       "        vertical-align: middle;\n",
       "    }\n",
       "\n",
       "    .dataframe tbody tr th {\n",
       "        vertical-align: top;\n",
       "    }\n",
       "\n",
       "    .dataframe thead th {\n",
       "        text-align: right;\n",
       "    }\n",
       "</style>\n",
       "<table border=\"1\" class=\"dataframe\">\n",
       "  <thead>\n",
       "    <tr style=\"text-align: right;\">\n",
       "      <th></th>\n",
       "      <th>gameID</th>\n",
       "      <th>platformID</th>\n",
       "      <th>seasonID</th>\n",
       "      <th>Winner</th>\n",
       "      <th>C1</th>\n",
       "      <th>C1S1</th>\n",
       "      <th>C1S2</th>\n",
       "      <th>C2</th>\n",
       "      <th>C2S1</th>\n",
       "      <th>C2S2</th>\n",
       "      <th>...</th>\n",
       "      <th>C7S2</th>\n",
       "      <th>C8</th>\n",
       "      <th>C8S1</th>\n",
       "      <th>C7S2.1</th>\n",
       "      <th>C9</th>\n",
       "      <th>C9S1</th>\n",
       "      <th>C9S2</th>\n",
       "      <th>C10</th>\n",
       "      <th>C10S1</th>\n",
       "      <th>C10S2</th>\n",
       "    </tr>\n",
       "  </thead>\n",
       "  <tbody>\n",
       "    <tr>\n",
       "      <th>495</th>\n",
       "      <td>3103740888</td>\n",
       "      <td>NA1</td>\n",
       "      <td>13</td>\n",
       "      <td>1</td>\n",
       "      <td>82</td>\n",
       "      <td>12</td>\n",
       "      <td>4</td>\n",
       "      <td>90</td>\n",
       "      <td>12</td>\n",
       "      <td>4</td>\n",
       "      <td>...</td>\n",
       "      <td>14</td>\n",
       "      <td>68</td>\n",
       "      <td>4</td>\n",
       "      <td>12</td>\n",
       "      <td>74</td>\n",
       "      <td>4</td>\n",
       "      <td>12</td>\n",
       "      <td>141</td>\n",
       "      <td>4</td>\n",
       "      <td>11</td>\n",
       "    </tr>\n",
       "    <tr>\n",
       "      <th>1674</th>\n",
       "      <td>324755293</td>\n",
       "      <td>OC1</td>\n",
       "      <td>13</td>\n",
       "      <td>0</td>\n",
       "      <td>429</td>\n",
       "      <td>4</td>\n",
       "      <td>7</td>\n",
       "      <td>41</td>\n",
       "      <td>4</td>\n",
       "      <td>12</td>\n",
       "      <td>...</td>\n",
       "      <td>4</td>\n",
       "      <td>516</td>\n",
       "      <td>4</td>\n",
       "      <td>12</td>\n",
       "      <td>64</td>\n",
       "      <td>11</td>\n",
       "      <td>4</td>\n",
       "      <td>145</td>\n",
       "      <td>4</td>\n",
       "      <td>7</td>\n",
       "    </tr>\n",
       "    <tr>\n",
       "      <th>2227</th>\n",
       "      <td>2449405250</td>\n",
       "      <td>EUN1</td>\n",
       "      <td>13</td>\n",
       "      <td>1</td>\n",
       "      <td>164</td>\n",
       "      <td>4</td>\n",
       "      <td>12</td>\n",
       "      <td>64</td>\n",
       "      <td>11</td>\n",
       "      <td>4</td>\n",
       "      <td>...</td>\n",
       "      <td>7</td>\n",
       "      <td>107</td>\n",
       "      <td>4</td>\n",
       "      <td>11</td>\n",
       "      <td>145</td>\n",
       "      <td>4</td>\n",
       "      <td>1</td>\n",
       "      <td>238</td>\n",
       "      <td>14</td>\n",
       "      <td>4</td>\n",
       "    </tr>\n",
       "    <tr>\n",
       "      <th>749</th>\n",
       "      <td>3371516077</td>\n",
       "      <td>NA1</td>\n",
       "      <td>13</td>\n",
       "      <td>1</td>\n",
       "      <td>266</td>\n",
       "      <td>4</td>\n",
       "      <td>12</td>\n",
       "      <td>21</td>\n",
       "      <td>7</td>\n",
       "      <td>4</td>\n",
       "      <td>...</td>\n",
       "      <td>4</td>\n",
       "      <td>157</td>\n",
       "      <td>4</td>\n",
       "      <td>3</td>\n",
       "      <td>420</td>\n",
       "      <td>12</td>\n",
       "      <td>4</td>\n",
       "      <td>76</td>\n",
       "      <td>11</td>\n",
       "      <td>4</td>\n",
       "    </tr>\n",
       "    <tr>\n",
       "      <th>1048</th>\n",
       "      <td>4808740096</td>\n",
       "      <td>KR</td>\n",
       "      <td>13</td>\n",
       "      <td>1</td>\n",
       "      <td>6</td>\n",
       "      <td>4</td>\n",
       "      <td>12</td>\n",
       "      <td>67</td>\n",
       "      <td>7</td>\n",
       "      <td>4</td>\n",
       "      <td>...</td>\n",
       "      <td>4</td>\n",
       "      <td>59</td>\n",
       "      <td>11</td>\n",
       "      <td>4</td>\n",
       "      <td>55</td>\n",
       "      <td>14</td>\n",
       "      <td>12</td>\n",
       "      <td>106</td>\n",
       "      <td>12</td>\n",
       "      <td>4</td>\n",
       "    </tr>\n",
       "    <tr>\n",
       "      <th>...</th>\n",
       "      <td>...</td>\n",
       "      <td>...</td>\n",
       "      <td>...</td>\n",
       "      <td>...</td>\n",
       "      <td>...</td>\n",
       "      <td>...</td>\n",
       "      <td>...</td>\n",
       "      <td>...</td>\n",
       "      <td>...</td>\n",
       "      <td>...</td>\n",
       "      <td>...</td>\n",
       "      <td>...</td>\n",
       "      <td>...</td>\n",
       "      <td>...</td>\n",
       "      <td>...</td>\n",
       "      <td>...</td>\n",
       "      <td>...</td>\n",
       "      <td>...</td>\n",
       "      <td>...</td>\n",
       "      <td>...</td>\n",
       "      <td>...</td>\n",
       "    </tr>\n",
       "    <tr>\n",
       "      <th>1687</th>\n",
       "      <td>276263846</td>\n",
       "      <td>OC1</td>\n",
       "      <td>13</td>\n",
       "      <td>1</td>\n",
       "      <td>89</td>\n",
       "      <td>3</td>\n",
       "      <td>4</td>\n",
       "      <td>222</td>\n",
       "      <td>4</td>\n",
       "      <td>7</td>\n",
       "      <td>...</td>\n",
       "      <td>14</td>\n",
       "      <td>1</td>\n",
       "      <td>4</td>\n",
       "      <td>14</td>\n",
       "      <td>28</td>\n",
       "      <td>4</td>\n",
       "      <td>11</td>\n",
       "      <td>17</td>\n",
       "      <td>4</td>\n",
       "      <td>14</td>\n",
       "    </tr>\n",
       "    <tr>\n",
       "      <th>959</th>\n",
       "      <td>1099014390</td>\n",
       "      <td>'TR1'</td>\n",
       "      <td>13</td>\n",
       "      <td>1</td>\n",
       "      <td>11</td>\n",
       "      <td>4</td>\n",
       "      <td>11</td>\n",
       "      <td>236</td>\n",
       "      <td>4</td>\n",
       "      <td>7</td>\n",
       "      <td>...</td>\n",
       "      <td>4</td>\n",
       "      <td>350</td>\n",
       "      <td>3</td>\n",
       "      <td>14</td>\n",
       "      <td>164</td>\n",
       "      <td>12</td>\n",
       "      <td>14</td>\n",
       "      <td>22</td>\n",
       "      <td>4</td>\n",
       "      <td>7</td>\n",
       "    </tr>\n",
       "    <tr>\n",
       "      <th>646</th>\n",
       "      <td>3360648844</td>\n",
       "      <td>NA1</td>\n",
       "      <td>13</td>\n",
       "      <td>0</td>\n",
       "      <td>875</td>\n",
       "      <td>12</td>\n",
       "      <td>4</td>\n",
       "      <td>117</td>\n",
       "      <td>4</td>\n",
       "      <td>3</td>\n",
       "      <td>...</td>\n",
       "      <td>14</td>\n",
       "      <td>99</td>\n",
       "      <td>4</td>\n",
       "      <td>3</td>\n",
       "      <td>145</td>\n",
       "      <td>7</td>\n",
       "      <td>4</td>\n",
       "      <td>154</td>\n",
       "      <td>11</td>\n",
       "      <td>4</td>\n",
       "    </tr>\n",
       "    <tr>\n",
       "      <th>2353</th>\n",
       "      <td>2492794931</td>\n",
       "      <td>EUN1</td>\n",
       "      <td>13</td>\n",
       "      <td>1</td>\n",
       "      <td>98</td>\n",
       "      <td>4</td>\n",
       "      <td>12</td>\n",
       "      <td>62</td>\n",
       "      <td>4</td>\n",
       "      <td>11</td>\n",
       "      <td>...</td>\n",
       "      <td>4</td>\n",
       "      <td>202</td>\n",
       "      <td>4</td>\n",
       "      <td>7</td>\n",
       "      <td>25</td>\n",
       "      <td>4</td>\n",
       "      <td>14</td>\n",
       "      <td>85</td>\n",
       "      <td>12</td>\n",
       "      <td>4</td>\n",
       "    </tr>\n",
       "    <tr>\n",
       "      <th>1752</th>\n",
       "      <td>263870161</td>\n",
       "      <td>OC1</td>\n",
       "      <td>13</td>\n",
       "      <td>0</td>\n",
       "      <td>24</td>\n",
       "      <td>11</td>\n",
       "      <td>4</td>\n",
       "      <td>111</td>\n",
       "      <td>3</td>\n",
       "      <td>4</td>\n",
       "      <td>...</td>\n",
       "      <td>4</td>\n",
       "      <td>103</td>\n",
       "      <td>4</td>\n",
       "      <td>14</td>\n",
       "      <td>58</td>\n",
       "      <td>12</td>\n",
       "      <td>4</td>\n",
       "      <td>201</td>\n",
       "      <td>4</td>\n",
       "      <td>14</td>\n",
       "    </tr>\n",
       "  </tbody>\n",
       "</table>\n",
       "<p>2825 rows × 34 columns</p>\n",
       "</div>"
      ],
      "text/plain": [
       "          gameID platformID  seasonID  Winner   C1  C1S1  C1S2   C2  C2S1  \\\n",
       "495   3103740888        NA1        13       1   82    12     4   90    12   \n",
       "1674   324755293        OC1        13       0  429     4     7   41     4   \n",
       "2227  2449405250       EUN1        13       1  164     4    12   64    11   \n",
       "749   3371516077        NA1        13       1  266     4    12   21     7   \n",
       "1048  4808740096         KR        13       1    6     4    12   67     7   \n",
       "...          ...        ...       ...     ...  ...   ...   ...  ...   ...   \n",
       "1687   276263846        OC1        13       1   89     3     4  222     4   \n",
       "959   1099014390      'TR1'        13       1   11     4    11  236     4   \n",
       "646   3360648844        NA1        13       0  875    12     4  117     4   \n",
       "2353  2492794931       EUN1        13       1   98     4    12   62     4   \n",
       "1752   263870161        OC1        13       0   24    11     4  111     3   \n",
       "\n",
       "      C2S2  ...  C7S2   C8  C8S1  C7S2.1   C9  C9S1  C9S2  C10  C10S1  C10S2  \n",
       "495      4  ...    14   68     4      12   74     4    12  141      4     11  \n",
       "1674    12  ...     4  516     4      12   64    11     4  145      4      7  \n",
       "2227     4  ...     7  107     4      11  145     4     1  238     14      4  \n",
       "749      4  ...     4  157     4       3  420    12     4   76     11      4  \n",
       "1048     4  ...     4   59    11       4   55    14    12  106     12      4  \n",
       "...    ...  ...   ...  ...   ...     ...  ...   ...   ...  ...    ...    ...  \n",
       "1687     7  ...    14    1     4      14   28     4    11   17      4     14  \n",
       "959      7  ...     4  350     3      14  164    12    14   22      4      7  \n",
       "646      3  ...    14   99     4       3  145     7     4  154     11      4  \n",
       "2353    11  ...     4  202     4       7   25     4    14   85     12      4  \n",
       "1752     4  ...     4  103     4      14   58    12     4  201      4     14  \n",
       "\n",
       "[2825 rows x 34 columns]"
      ]
     },
     "execution_count": 16,
     "metadata": {},
     "output_type": "execute_result"
    }
   ],
   "source": [
    "#shuffling the data\n",
    "matches.sample(frac=1)"
   ]
  },
  {
   "cell_type": "markdown",
   "metadata": {},
   "source": [
    "## Create the Data Matrix\n",
    "\n",
    "Our goal is to predict the winner of a match.\n",
    "\n",
    "So we are using the champions as the means to predict the winner."
   ]
  },
  {
   "cell_type": "code",
   "execution_count": 17,
   "metadata": {},
   "outputs": [
    {
     "name": "stdout",
     "output_type": "stream",
     "text": [
      "(2825, 10)\n",
      "(2825,)\n"
     ]
    }
   ],
   "source": [
    "#Data Matrix\n",
    "X = pd.DataFrame(matches, columns=[\"C1\",\"C2\",\"C3\",\n",
    "          \"C4\",\"C5\",\"C6\",\n",
    "          \"C7\",\"C8\",\"C9\",\n",
    "          \"C10\"])\n",
    "\n",
    "#Target Vector\n",
    "y=matches['Winner']\n",
    "\n",
    "print(X.shape)\n",
    "print(y.shape)"
   ]
  },
  {
   "cell_type": "markdown",
   "metadata": {},
   "source": [
    "## Create Train and Test Dataset\n",
    "\n",
    "We use sklearn's train_test_split function to spilt the information in the csv file."
   ]
  },
  {
   "cell_type": "code",
   "execution_count": 18,
   "metadata": {},
   "outputs": [
    {
     "name": "stdout",
     "output_type": "stream",
     "text": [
      "(2260,)\n"
     ]
    }
   ],
   "source": [
    "X_train, X_test, y_train, y_test = train_test_split(X, y, test_size=0.2, random_state=0)\n",
    "print(y_train.shape)"
   ]
  },
  {
   "cell_type": "markdown",
   "metadata": {},
   "source": [
    "## K Neighbors Classifier Parameters\n",
    "\n",
    "Since we do not know what would be the best parameters to predict the outcome of match, I thought it best to just try as many and see which ones worked. The paper that we used as our base line also did not specify what the parameters that they used."
   ]
  },
  {
   "cell_type": "code",
   "execution_count": 19,
   "metadata": {},
   "outputs": [],
   "source": [
    "# Set the the range of K \n",
    "neighbors = np.arange(1,60)\n",
    "\n",
    "# Two arrays to store training and test accuracies\n",
    "train_accuracy = np.empty(len(neighbors))\n",
    "validation_accuracy = np.empty(len(neighbors))\n",
    "\n",
    "for i,k in enumerate(neighbors):\n",
    "    \n",
    "    # Setup a knn classifier with k neighbors\n",
    "    knn = KNeighborsClassifier(n_neighbors=k)\n",
    "    \n",
    "    # Fit the model\n",
    "    knn.fit(X_train, y_train)\n",
    "    \n",
    "    \n",
    "    # The \"score\" function returns the mean accuracy on the given train/test data and labels.\n",
    "    # Note that \"accuracy\" may not be a good performance measure in a skewed data set\n",
    "    # Thus, we need to do hyperparameter tuning by using better performance measures (e.g., f1 score, presision, recall)\n",
    "    \n",
    "    # Compute training accuracy \n",
    "    train_accuracy[i] = knn.score(X_train, y_train)\n",
    "    \n",
    "    # Compute validation accuracy using cross-validation\n",
    "    \n",
    "    scores = cross_val_score(knn, X_train, y_train, scoring='accuracy', cv=5)\n",
    "    \n",
    "    validation_accuracy[i] = scores.mean()"
   ]
  },
  {
   "cell_type": "code",
   "execution_count": 20,
   "metadata": {},
   "outputs": [
    {
     "data": {
      "image/png": "[encoded data removed]",
      "text/plain": [
       "<Figure size 720x432 with 1 Axes>"
      ]
     },
     "metadata": {},
     "output_type": "display_data"
    },
    {
     "name": "stdout",
     "output_type": "stream",
     "text": [
      "Optimal K:  37\n"
     ]
    }
   ],
   "source": [
    "plt.style.use('ggplot')\n",
    "fig = plt.figure(figsize=(10, 6))\n",
    "plt.title('Varying K: Number of Nearest Neighbors')\n",
    "plt.plot(neighbors, validation_accuracy, label='Validation Accuracy')\n",
    "plt.plot(neighbors, train_accuracy, label='Training accuracy')\n",
    "plt.legend()\n",
    "plt.xlabel('K (Number of Nearest Neighbors)')\n",
    "plt.ylabel('Accuracy')\n",
    "plt.show()\n",
    "\n",
    "\n",
    "\n",
    "# Find the value of \"K\" that gives max validation accuracy\n",
    "j = 0\n",
    "max_val_accuracy = validation_accuracy[j]\n",
    "max_k = 1\n",
    "\n",
    "for i in neighbors:\n",
    "    if(validation_accuracy[j] > max_val_accuracy):\n",
    "        max_val_accuracy = validation_accuracy[j]\n",
    "        max_k = i\n",
    "    j +=1\n",
    "    \n",
    "print(\"Optimal K: \", max_k)"
   ]
  },
  {
   "cell_type": "markdown",
   "metadata": {},
   "source": [
    "## Model Selection: Choose a Combination of Optimal Parameters\n",
    "\n",
    "Again, since the base paper didn't provide the information for this portion, I thought to ust try them all. Also considering that the state of the League of Legends game could change with one patch update, I thought to include multiple options just in case."
   ]
  },
  {
   "cell_type": "code",
   "execution_count": 21,
   "metadata": {
    "scrolled": true
   },
   "outputs": [
    {
     "name": "stdout",
     "output_type": "stream",
     "text": [
      "Fitting 5 folds for each of 686 candidates, totalling 3430 fits\n"
     ]
    },
    {
     "name": "stderr",
     "output_type": "stream",
     "text": [
      "[Parallel(n_jobs=-1)]: Using backend LokyBackend with 4 concurrent workers.\n",
      "[Parallel(n_jobs=-1)]: Done  24 tasks      | elapsed:   49.0s\n",
      "[Parallel(n_jobs=-1)]: Done 144 tasks      | elapsed:   58.8s\n",
      "[Parallel(n_jobs=-1)]: Done 464 tasks      | elapsed:  1.4min\n",
      "[Parallel(n_jobs=-1)]: Done 912 tasks      | elapsed:  2.0min\n",
      "[Parallel(n_jobs=-1)]: Done 1472 tasks      | elapsed:  2.8min\n",
      "[Parallel(n_jobs=-1)]: Done 2176 tasks      | elapsed:  3.7min\n",
      "[Parallel(n_jobs=-1)]: Done 2804 tasks      | elapsed:  4.7min\n"
     ]
    },
    {
     "name": "stdout",
     "output_type": "stream",
     "text": [
      "Best Score: 0.680292\n",
      "Optimal Hyperparameter Values:  {'n_neighbors': 1, 'p': 500, 'weights': 'uniform'}\n",
      "\n",
      "\n",
      "CPU times: user 6.33 s, sys: 614 ms, total: 6.94 s\n",
      "Wall time: 5min 37s\n"
     ]
    },
    {
     "name": "stderr",
     "output_type": "stream",
     "text": [
      "[Parallel(n_jobs=-1)]: Done 3430 out of 3430 | elapsed:  5.6min finished\n"
     ]
    }
   ],
   "source": [
    "%%time\n",
    "\n",
    "warnings.filterwarnings('ignore')\n",
    "\n",
    "# The param_grid tells Scikit-Learn to evaluate all combinations of the hyperparameter values\n",
    "param_grid = {'n_neighbors': np.arange(1,50), 'p': [1, 2, 10, 50, 100, 500, 1000], \n",
    "              'weights': [\"uniform\", \"distance\"]}\n",
    "\n",
    "knn_clf = KNeighborsClassifier()\n",
    "\n",
    "knn_cv = GridSearchCV(knn_clf, param_grid, scoring='f1', cv=5, verbose=3, n_jobs=-1)\n",
    "knn_cv.fit(X_train, y_train)\n",
    "\n",
    "\n",
    "params_optimal_knn = knn_cv.best_params_\n",
    "\n",
    "print(\"Best Score: %f\" % knn_cv.best_score_)\n",
    "print(\"Optimal Hyperparameter Values: \", params_optimal_knn)\n",
    "print(\"\\n\")"
   ]
  },
  {
   "cell_type": "markdown",
   "metadata": {},
   "source": [
    "## Select the Best Model\n",
    "\n",
    "Now that we have the best parameters for the currect dataset, we will try to train the classifier with those parameters to get the best prediction possible."
   ]
  },
  {
   "cell_type": "markdown",
   "metadata": {},
   "source": [
    "##  Evaluate Model Performance Using Cross-Validation"
   ]
  },
  {
   "cell_type": "code",
   "execution_count": 22,
   "metadata": {},
   "outputs": [
    {
     "name": "stdout",
     "output_type": "stream",
     "text": [
      "[1 1 1 ... 1 0 0]\n",
      "\n",
      "Training Accuracy:  1.0\n"
     ]
    }
   ],
   "source": [
    "knn = KNeighborsClassifier(**params_optimal_knn)\n",
    "\n",
    "knn.fit(X_train, y_train)\n",
    "\n",
    "y_train_predicted = knn.predict(X_train)\n",
    "print(y_train_predicted)\n",
    "\n",
    "train_accuracy_knn = np.mean(y_train_predicted == y_train)\n",
    "print(\"\\nTraining Accuracy: \", train_accuracy_knn)"
   ]
  },
  {
   "cell_type": "code",
   "execution_count": 23,
   "metadata": {},
   "outputs": [
    {
     "name": "stdout",
     "output_type": "stream",
     "text": [
      "[0.68029197 0.68029197 0.68029197 0.68029197 0.68029197]\n",
      "F1 Score: 0.68 (+/- 0.00)\n"
     ]
    }
   ],
   "source": [
    "# Scoring Parameter for Classification:\n",
    "# https://scikit-learn.org/stable/modules/model_evaluation.html#scoring-parameter\n",
    "# Note: For a skewed data set \"accuracy\" might not be a good choice for scoring\n",
    "scores = cross_val_score(knn, X_train, y_train, scoring='f1', cv=5)\n",
    "print(scores)\n",
    "\n",
    "print(\"F1 Score: %0.2f (+/- %0.2f)\" % (scores.mean(), scores.std() * 2))"
   ]
  },
  {
   "cell_type": "markdown",
   "metadata": {},
   "source": [
    "## Evaluate The Model Using Confusion Matrix for Training Data"
   ]
  },
  {
   "cell_type": "code",
   "execution_count": 24,
   "metadata": {},
   "outputs": [
    {
     "data": {
      "text/plain": [
       "array([[   0, 1095],\n",
       "       [   0, 1165]])"
      ]
     },
     "execution_count": 24,
     "metadata": {},
     "output_type": "execute_result"
    }
   ],
   "source": [
    "y_train_pred = cross_val_predict(knn, X_train, y_train, cv=5)\n",
    "\n",
    "confusion_matrix(y_train, y_train_pred)"
   ]
  },
  {
   "cell_type": "markdown",
   "metadata": {},
   "source": [
    "## Precision, Recall & F1 Score for Training Data"
   ]
  },
  {
   "cell_type": "code",
   "execution_count": 25,
   "metadata": {},
   "outputs": [
    {
     "name": "stdout",
     "output_type": "stream",
     "text": [
      "Precision = 0.515487\n",
      "Recall = 1.000000\n",
      "F1 Score = 0.680292\n"
     ]
    }
   ],
   "source": [
    "precision = precision_score(y_train, y_train_pred) \n",
    "print(\"Precision = %f\" % precision)\n",
    "\n",
    "recall = recall_score(y_train, y_train_pred)\n",
    "print(\"Recall = %f\" % recall)\n",
    "\n",
    "\n",
    "f1 = f1_score(y_train, y_train_pred)\n",
    "print(\"F1 Score = %f\" % f1)"
   ]
  },
  {
   "cell_type": "code",
   "execution_count": 26,
   "metadata": {},
   "outputs": [
    {
     "name": "stdout",
     "output_type": "stream",
     "text": [
      "\n",
      "Test Accuracy:  1.0\n",
      "\n",
      "No. of correct predictions (Test): 2260/2260\n",
      "\n",
      "Confusion Matrix (Train Data):\n",
      " [[1095    0]\n",
      " [   0 1165]]\n",
      "Train Precision = 1.000000\n",
      "Train Recall = 1.000000\n",
      "Train F1 Score = 1.000000\n",
      "              precision    recall  f1-score   support\n",
      "\n",
      "           0       1.00      1.00      1.00      1095\n",
      "           1       1.00      1.00      1.00      1165\n",
      "\n",
      "    accuracy                           1.00      2260\n",
      "   macro avg       1.00      1.00      1.00      2260\n",
      "weighted avg       1.00      1.00      1.00      2260\n",
      "\n"
     ]
    }
   ],
   "source": [
    "#The accuracy of the model\n",
    "train_accuracy_knn = knn.score(X_train, y_train)\n",
    "print(\"\\nTest Accuracy: \", train_accuracy_knn)\n",
    "\n",
    "\n",
    "# No. of Correct Predictions\n",
    "y_train_predicted = knn.predict(X_train)\n",
    "print(\"\\nNo. of correct predictions (Test): %d/%d\" % (np.sum(y_train_predicted == y_train), len(y_train)))\n",
    "\n",
    "# Confusion Matrix\n",
    "print(\"\\nConfusion Matrix (Train Data):\\n\", confusion_matrix(y_train, y_train_predicted))\n",
    "\n",
    "precision = precision_score(y_train, y_train_predicted) \n",
    "print(\"Train Precision = %f\" % precision)\n",
    "\n",
    "recall = recall_score(y_train, y_train_predicted)\n",
    "print(\"Train Recall = %f\" % recall)\n",
    "\n",
    "\n",
    "f1 = f1_score(y_train, y_train_predicted)\n",
    "print(\"Train F1 Score = %f\" % f1)\n",
    "print(classification_report(y_train,y_train_predicted))"
   ]
  },
  {
   "cell_type": "markdown",
   "metadata": {},
   "source": [
    "## Evaluate the Model using the ROC Curve for Training Data"
   ]
  },
  {
   "cell_type": "code",
   "execution_count": 27,
   "metadata": {},
   "outputs": [
    {
     "name": "stdout",
     "output_type": "stream",
     "text": [
      "\n",
      "FPR FPR & TPR for Various Threshold Values:\n",
      "FPR:  [0. 1.]\n",
      "TPR:  [0. 1.]\n",
      "\n",
      "Thresholds:  [2. 1.]\n"
     ]
    }
   ],
   "source": [
    "# Get the 2nd column of the matrix of predicted probabilities  for each data point\n",
    "#    The 2nd column stores the probabilities of the positive class\n",
    "y_scores = cross_val_predict(knn, X_train, y_train, method=\"predict_proba\", cv=5)[:, 1]\n",
    "\n",
    "\n",
    "fpr, tpr, thresholds = roc_curve(y_train, y_scores)\n",
    "\n",
    "print(\"\\nFPR FPR & TPR for Various Threshold Values:\")\n",
    "\n",
    "print(\"FPR: \", fpr)\n",
    "print(\"TPR: \", tpr)\n",
    "print(\"\\nThresholds: \", thresholds)"
   ]
  },
  {
   "cell_type": "code",
   "execution_count": 28,
   "metadata": {},
   "outputs": [
    {
     "data": {
      "image/png": "[encoded data removed]",
      "text/plain": [
       "<Figure size 720x432 with 1 Axes>"
      ]
     },
     "metadata": {},
     "output_type": "display_data"
    }
   ],
   "source": [
    "plt.style.use('ggplot')\n",
    "\n",
    "fig = plt.figure(figsize=(10, 6))\n",
    "def plot_roc_curve(fpr, tpr, label=None): \n",
    "    plt.plot(fpr, tpr, color='darkorange', linewidth=8, label=label) \n",
    "    plt.plot([0, 1], [0, 1], color='navy', lw=2, linestyle='--')\n",
    "    plt.axis([0, 1, 0, 1])\n",
    "    plt.title('ROC Curve (Train Data)')\n",
    "    plt.xlabel('False Positive Rate')\n",
    "    plt.ylabel('True Positive Rate')\n",
    "\n",
    "plot_roc_curve(fpr, tpr)\n",
    "plt.show()"
   ]
  },
  {
   "cell_type": "markdown",
   "metadata": {},
   "source": [
    "## Area Under the ROC Curve"
   ]
  },
  {
   "cell_type": "code",
   "execution_count": 29,
   "metadata": {},
   "outputs": [
    {
     "data": {
      "text/plain": [
       "0.5"
      ]
     },
     "execution_count": 29,
     "metadata": {},
     "output_type": "execute_result"
    }
   ],
   "source": [
    "#Area under ROC curve\n",
    "roc_auc_score(y_train,y_scores)"
   ]
  },
  {
   "cell_type": "markdown",
   "metadata": {},
   "source": [
    "## Precision-Recall Curve"
   ]
  },
  {
   "cell_type": "code",
   "execution_count": 30,
   "metadata": {},
   "outputs": [
    {
     "data": {
      "image/png": "[encoded data removed]",
      "text/plain": [
       "<Figure size 720x432 with 1 Axes>"
      ]
     },
     "metadata": {},
     "output_type": "display_data"
    },
    {
     "name": "stdout",
     "output_type": "stream",
     "text": [
      "Optimal Threshold:  -1\n"
     ]
    }
   ],
   "source": [
    "plt.style.use('ggplot')\n",
    "\n",
    "# Get the 2nd column of the matrix of predicted probabilities for each data point\n",
    "#    The 2nd column stores the probalities of the positive class\n",
    "y_scores = cross_val_predict(knn, X_train, y_train, method=\"predict_proba\", cv=3)[:, 1]\n",
    "\n",
    "precisions, recalls, thresholds = precision_recall_curve(y_train, y_scores)\n",
    "\n",
    "\n",
    "fig = plt.figure(figsize=(10, 6))\n",
    "def plot_precision_recall_vs_threshold(precisions, recalls, thresholds): \n",
    "    plt.plot(thresholds, precisions[:-1], \"b--\",  linewidth=8, label=\"Precision\") \n",
    "    plt.plot(thresholds, recalls[:-1], \"g-\",  linewidth=3, label=\"Recall\") \n",
    "    plt.xlabel(\"Threshold\")\n",
    "    plt.legend(loc=\"lower right\")\n",
    "    plt.title('Precision-Recall Curve')\n",
    "    #plt.xlim([0, 1])\n",
    "    plt.ylim([0, 1.1])\n",
    "\n",
    "plot_precision_recall_vs_threshold(precisions, recalls, thresholds)\n",
    "plt.show()\n",
    "\n",
    "\n",
    "threshold_optimal = -1\n",
    "for i in range(len(precisions)):\n",
    "    if(precisions[i] == recalls[i]):\n",
    "        threshold_optimal = thresholds[i]\n",
    "\n",
    "print(\"Optimal Threshold: \", threshold_optimal)"
   ]
  },
  {
   "cell_type": "markdown",
   "metadata": {},
   "source": [
    "## Performance Measures for Varying Threshold"
   ]
  },
  {
   "cell_type": "code",
   "execution_count": 31,
   "metadata": {},
   "outputs": [
    {
     "name": "stdout",
     "output_type": "stream",
     "text": [
      "Performance Measures Based on the Default Threshold:\n",
      "\n",
      "Precision (Default Threshold 0.5) = 0.515487\n",
      "Recall (Default Threshold 0.5) = 1.000000\n",
      "F1 Score (Default Threshold 0.5) = 0.680292\n",
      "Confusion Matrix (Default Threshold 0.5)\n",
      " [[   0 1095]\n",
      " [   0 1165]]\n",
      "\n",
      "-------------------------------------------------------\n",
      "\n",
      "Performance Measures Based on the Optimal Threshold (from Precision-Recall Curve):\n",
      "\n",
      "Precision (Threshold -1.00) = 0.515487\n",
      "Recall (Threshold -1.00) = 1.000000\n",
      "F1 Score = (Threshold -1.00) = 0.680292\n",
      "Confusion Matrix (Threshold -1.00)\n",
      "[[   0 1095]\n",
      " [   0 1165]]\n"
     ]
    }
   ],
   "source": [
    "print(\"Performance Measures Based on the Default Threshold:\\n\")\n",
    "\n",
    "\n",
    "y_train_pred = cross_val_predict(knn, X_train, y_train, cv=5)\n",
    "\n",
    "# Precision, Recall, F1 Score and Confusion Matrix for the Default Threshold 0.5\n",
    "precision_train = precision_score(y_train, y_train_pred) \n",
    "print(\"Precision (Default Threshold 0.5) = %f\" % precision_train)\n",
    "\n",
    "recall_train = recall_score(y_train, y_train_pred)\n",
    "print(\"Recall (Default Threshold 0.5) = %f\" % recall_train)\n",
    "\n",
    "\n",
    "f1_train = f1_score(y_train, y_train_pred)\n",
    "print(\"F1 Score (Default Threshold 0.5) = %f\" % f1_train)\n",
    "\n",
    "print(\"Confusion Matrix (Default Threshold 0.5)\\n\", confusion_matrix(y_train, y_train_pred))\n",
    "\n",
    "\n",
    "print(\"\\n-------------------------------------------------------\\n\")\n",
    "print(\"Performance Measures Based on the Optimal Threshold (from Precision-Recall Curve):\")\n",
    "\n",
    "# Precision, Recall, F1 Score and Confusion Matrix for different threshold\n",
    "\n",
    "t = threshold_optimal # optimal threshold from precision-recall curve \n",
    "\n",
    "# Compute predictions based on new t by using the following method:\n",
    "#  - Get the probability of the positive class from the 2nd column [:, 1]\n",
    "#  - If that probability is greater than or equal to t, then the test data belongs to the positive class\n",
    "y_train_predicted_new = (cross_val_predict(knn, X_train, y_train, method=\"predict_proba\", cv=3)[:,1] > t).astype(int)\n",
    "\n",
    "\n",
    "precision = precision_score(y_train, y_train_predicted_new) \n",
    "print(\"\\nPrecision (Threshold %.2f) = %f\" % (t, precision))\n",
    "\n",
    "recall = recall_score(y_train, y_train_predicted_new)\n",
    "print(\"Recall (Threshold %.2f) = %f\" % (t, recall))\n",
    "\n",
    "\n",
    "f1 = f1_score(y_train, y_train_predicted_new)\n",
    "print(\"F1 Score = (Threshold %.2f) = %f\" % (t, f1))\n",
    "\n",
    "\n",
    "print(\"Confusion Matrix (Threshold %.2f)\" %  t) \n",
    "print(confusion_matrix(y_train, y_train_predicted_new))\n",
    "\n"
   ]
  },
  {
   "cell_type": "markdown",
   "metadata": {},
   "source": [
    "# Testing the Test Data with the Classifier\n",
    "\n",
    "## Confusion Matrix, Precision, Recall & F1 Score  for Test Data"
   ]
  },
  {
   "cell_type": "code",
   "execution_count": 32,
   "metadata": {},
   "outputs": [
    {
     "name": "stdout",
     "output_type": "stream",
     "text": [
      "\n",
      "Test Accuracy:  0.5150442477876106\n",
      "\n",
      "No. of correct predictions (Test): 291/565\n",
      "\n",
      "Confusion Matrix (Test Data):\n",
      " [[  0 274]\n",
      " [  0 291]]\n",
      "Test Precision = 0.515044\n",
      "Test Recall = 1.000000\n",
      "Test F1 Score = 0.679907\n"
     ]
    }
   ],
   "source": [
    "#The accuracy of the model\n",
    "test_accuracy_knn = knn.score(X_test, y_test)\n",
    "print(\"\\nTest Accuracy: \", test_accuracy_knn)\n",
    "\n",
    "\n",
    "# No. of Correct Predictions\n",
    "y_test_predicted = knn.predict(X_test)\n",
    "print(\"\\nNo. of correct predictions (Test): %d/%d\" % (np.sum(y_test_predicted == y_test), len(y_test)))\n",
    "\n",
    "# Confusion Matrix\n",
    "print(\"\\nConfusion Matrix (Test Data):\\n\", confusion_matrix(y_test, y_test_predicted))\n",
    "\n",
    "precision = precision_score(y_test, y_test_predicted) \n",
    "print(\"Test Precision = %f\" % precision)\n",
    "\n",
    "recall = recall_score(y_test, y_test_predicted)\n",
    "print(\"Test Recall = %f\" % recall)\n",
    "\n",
    "\n",
    "f1 = f1_score(y_test, y_test_predicted)\n",
    "print(\"Test F1 Score = %f\" % f1)"
   ]
  },
  {
   "cell_type": "markdown",
   "metadata": {},
   "source": [
    "## ROC Curve for Test Data"
   ]
  },
  {
   "cell_type": "code",
   "execution_count": 39,
   "metadata": {},
   "outputs": [
    {
     "name": "stdout",
     "output_type": "stream",
     "text": [
      "\n",
      "FPR FPR & TPR for Various Threshold Values:\n",
      "FPR:  [0. 1.]\n",
      "TPR:  [0. 1.]\n",
      "\n",
      "Thresholds:  [1. 0.]\n"
     ]
    }
   ],
   "source": [
    "# Get the 2nd column of the matrix of predicted probabilities for each data point\n",
    "#    The 2nd column stores the probalities of the positive class\n",
    "y_scores_test = cross_val_predict(knn, X_test, y_test, method=\"predict_proba\", cv=3)[:, 1]\n",
    "\n",
    "fpr_test, tpr_test, thresholds_test = roc_curve(y_test, y_scores_test)\n",
    "\n",
    "\n",
    "print(\"\\nFPR FPR & TPR for Various Threshold Values:\")\n",
    "print(\"FPR: \", fpr_test)\n",
    "print(\"TPR: \", tpr_test)\n",
    "print(\"\\nThresholds: \", thresholds_test)"
   ]
  },
  {
   "cell_type": "code",
   "execution_count": 34,
   "metadata": {},
   "outputs": [
    {
     "data": {
      "image/png": "[encoded data removed]",
      "text/plain": [
       "<Figure size 720x432 with 1 Axes>"
      ]
     },
     "metadata": {},
     "output_type": "display_data"
    }
   ],
   "source": [
    "plt.style.use('ggplot')\n",
    "\n",
    "fig = plt.figure(figsize=(10, 6))\n",
    "plot_roc_curve(fpr_test, tpr_test)\n",
    "plt.show()"
   ]
  },
  {
   "cell_type": "markdown",
   "metadata": {},
   "source": [
    "## Area Under the ROC Curve (Test Data)"
   ]
  },
  {
   "cell_type": "code",
   "execution_count": 35,
   "metadata": {},
   "outputs": [
    {
     "data": {
      "text/plain": [
       "0.5"
      ]
     },
     "execution_count": 35,
     "metadata": {},
     "output_type": "execute_result"
    }
   ],
   "source": [
    "# Area under ROC curve\n",
    "roc_auc_score(y_test,y_scores_test)"
   ]
  },
  {
   "cell_type": "markdown",
   "metadata": {},
   "source": [
    "## Confusion Matrix"
   ]
  },
  {
   "cell_type": "code",
   "execution_count": 36,
   "metadata": {},
   "outputs": [
    {
     "data": {
      "text/html": [
       "<div>\n",
       "<style scoped>\n",
       "    .dataframe tbody tr th:only-of-type {\n",
       "        vertical-align: middle;\n",
       "    }\n",
       "\n",
       "    .dataframe tbody tr th {\n",
       "        vertical-align: top;\n",
       "    }\n",
       "\n",
       "    .dataframe thead th {\n",
       "        text-align: right;\n",
       "    }\n",
       "</style>\n",
       "<table border=\"1\" class=\"dataframe\">\n",
       "  <thead>\n",
       "    <tr style=\"text-align: right;\">\n",
       "      <th>Predicted</th>\n",
       "      <th>1</th>\n",
       "      <th>All</th>\n",
       "    </tr>\n",
       "    <tr>\n",
       "      <th>True</th>\n",
       "      <th></th>\n",
       "      <th></th>\n",
       "    </tr>\n",
       "  </thead>\n",
       "  <tbody>\n",
       "    <tr>\n",
       "      <th>0</th>\n",
       "      <td>274</td>\n",
       "      <td>274</td>\n",
       "    </tr>\n",
       "    <tr>\n",
       "      <th>1</th>\n",
       "      <td>291</td>\n",
       "      <td>291</td>\n",
       "    </tr>\n",
       "    <tr>\n",
       "      <th>All</th>\n",
       "      <td>565</td>\n",
       "      <td>565</td>\n",
       "    </tr>\n",
       "  </tbody>\n",
       "</table>\n",
       "</div>"
      ],
      "text/plain": [
       "Predicted    1  All\n",
       "True               \n",
       "0          274  274\n",
       "1          291  291\n",
       "All        565  565"
      ]
     },
     "execution_count": 36,
     "metadata": {},
     "output_type": "execute_result"
    }
   ],
   "source": [
    "pd.crosstab(y_test, y_test_predicted, rownames=['True'], colnames=['Predicted'], margins=True)"
   ]
  },
  {
   "cell_type": "markdown",
   "metadata": {},
   "source": [
    "## Summary of Classification Metrics and the Test Data"
   ]
  },
  {
   "cell_type": "code",
   "execution_count": 37,
   "metadata": {},
   "outputs": [
    {
     "name": "stdout",
     "output_type": "stream",
     "text": [
      "\n",
      "Test Accuracy:  0.5150442477876106\n",
      "\n",
      "No. of correct predictions (Test): 291/565\n",
      "\n",
      "Confusion Matrix (Test Data):\n",
      " [[  0 274]\n",
      " [  0 291]]\n",
      "Test Precision = 0.515044\n",
      "Test Recall = 1.000000\n",
      "Test F1 Score = 0.679907\n",
      "              precision    recall  f1-score   support\n",
      "\n",
      "           0       0.00      0.00      0.00       274\n",
      "           1       0.52      1.00      0.68       291\n",
      "\n",
      "    accuracy                           0.52       565\n",
      "   macro avg       0.26      0.50      0.34       565\n",
      "weighted avg       0.27      0.52      0.35       565\n",
      "\n"
     ]
    }
   ],
   "source": [
    "#The accuracy of the model\n",
    "test_accuracy_knn = knn.score(X_test, y_test)\n",
    "print(\"\\nTest Accuracy: \", test_accuracy_knn)\n",
    "\n",
    "\n",
    "# No. of Correct Predictions\n",
    "y_test_predicted = knn.predict(X_test)\n",
    "print(\"\\nNo. of correct predictions (Test): %d/%d\" % (np.sum(y_test_predicted == y_test), len(y_test)))\n",
    "\n",
    "# Confusion Matrix\n",
    "print(\"\\nConfusion Matrix (Test Data):\\n\", confusion_matrix(y_test, y_test_predicted))\n",
    "\n",
    "precision = precision_score(y_test, y_test_predicted) \n",
    "print(\"Test Precision = %f\" % precision)\n",
    "\n",
    "recall = recall_score(y_test, y_test_predicted)\n",
    "print(\"Test Recall = %f\" % recall)\n",
    "\n",
    "\n",
    "f1 = f1_score(y_test, y_test_predicted)\n",
    "print(\"Test F1 Score = %f\" % f1)\n",
    "print(classification_report(y_test,y_test_predicted))"
   ]
  },
  {
   "cell_type": "code",
   "execution_count": null,
   "metadata": {},
   "outputs": [],
   "source": []
  }
 ],
 "metadata": {
  "kernelspec": {
   "display_name": "Python 3",
   "language": "python",
   "name": "python3"
  },
  "language_info": {
   "codemirror_mode": {
    "name": "ipython",
    "version": 3
   },
   "file_extension": ".py",
   "mimetype": "text/x-python",
   "name": "python",
   "nbconvert_exporter": "python",
   "pygments_lexer": "ipython3",
   "version": "3.8.5"
  }
 },
 "nbformat": 4,
 "nbformat_minor": 4
}
